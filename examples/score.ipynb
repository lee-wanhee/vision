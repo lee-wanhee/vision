{
 "cells": [
  {
   "cell_type": "markdown",
   "metadata": {
    "collapsed": true,
    "jupyter": {
     "outputs_hidden": true
    }
   },
   "source": [
    "You can run an existing model on an existing benchmark by calling a single function, e.g. here `alexnet` on the behavioral benchmark `Rajalingham2018-i2n`."
   ]
  },
  {
   "cell_type": "code",
   "execution_count": 14,
   "metadata": {
    "ExecuteTime": {
     "end_time": "2024-01-02T14:45:03.035305500Z",
     "start_time": "2024-01-02T14:43:49.235387Z"
    },
    "collapsed": false,
    "jupyter": {
     "outputs_hidden": false
    }
   },
   "outputs": [
    {
     "name": "stdout",
     "output_type": "stream",
     "text": [
      "The autoreload extension is already loaded. To reload it, use:\n",
      "  %reload_ext autoreload\n",
      "Requirement already satisfied: numpy in /ccn2/u/wanhee/miniconda3/envs/brainscore/lib/python3.8/site-packages (from -r /ccn2/u/wanhee/vision/brainscore_vision/metrics/regression_correlation/requirements.txt (line 1)) (1.24.4)\n",
      "Requirement already satisfied: scipy in /ccn2/u/wanhee/miniconda3/envs/brainscore/lib/python3.8/site-packages (from -r /ccn2/u/wanhee/vision/brainscore_vision/metrics/regression_correlation/requirements.txt (line 2)) (1.10.1)\n",
      "Requirement already satisfied: scikit-learn in /ccn2/u/wanhee/miniconda3/envs/brainscore/lib/python3.8/site-packages (from -r /ccn2/u/wanhee/vision/brainscore_vision/metrics/regression_correlation/requirements.txt (line 3)) (1.3.2)\n",
      "Requirement already satisfied: joblib>=1.1.1 in /ccn2/u/wanhee/miniconda3/envs/brainscore/lib/python3.8/site-packages (from scikit-learn->-r /ccn2/u/wanhee/vision/brainscore_vision/metrics/regression_correlation/requirements.txt (line 3)) (1.3.2)\n",
      "Requirement already satisfied: threadpoolctl>=2.0.0 in /ccn2/u/wanhee/miniconda3/envs/brainscore/lib/python3.8/site-packages (from scikit-learn->-r /ccn2/u/wanhee/vision/brainscore_vision/metrics/regression_correlation/requirements.txt (line 3)) (3.2.0)\n",
      "Requirement already satisfied: scipy in /ccn2/u/wanhee/miniconda3/envs/brainscore/lib/python3.8/site-packages (from -r /ccn2/u/wanhee/vision/brainscore_vision/metrics/internal_consistency/requirements.txt (line 1)) (1.10.1)\n",
      "Requirement already satisfied: numpy<1.27.0,>=1.19.5 in /ccn2/u/wanhee/miniconda3/envs/brainscore/lib/python3.8/site-packages (from scipy->-r /ccn2/u/wanhee/vision/brainscore_vision/metrics/internal_consistency/requirements.txt (line 1)) (1.24.4)\n"
     ]
    },
    {
     "name": "stderr",
     "output_type": "stream",
     "text": [
      "layers:   0%|                                                            | 0/15 [00:00<?, ?it/s]"
     ]
    },
    {
     "data": {
      "application/vnd.jupyter.widget-view+json": {
       "model_id": "c54751bf682c4444b69093a27b835f85",
       "version_major": 2,
       "version_minor": 0
      },
      "text/plain": [
       "activations:   0%|          | 0/192 [00:00<?, ?it/s]"
      ]
     },
     "metadata": {},
     "output_type": "display_data"
    },
    {
     "name": "stdout",
     "output_type": "stream",
     "text": [
      "torch.Size([64, 3, 224, 224])\n"
     ]
    },
    {
     "data": {
      "application/vnd.jupyter.widget-view+json": {
       "model_id": "58ee72c937d5405dade77fad60f21e0e",
       "version_major": 2,
       "version_minor": 0
      },
      "text/plain": [
       "activations:   0%|          | 0/1024 [00:00<?, ?it/s]"
      ]
     },
     "metadata": {},
     "output_type": "display_data"
    },
    {
     "name": "stdout",
     "output_type": "stream",
     "text": [
      "torch.Size([64, 3, 224, 224])\n",
      "torch.Size([64, 3, 224, 224])\n",
      "torch.Size([64, 3, 224, 224])\n",
      "torch.Size([64, 3, 224, 224])\n",
      "torch.Size([64, 3, 224, 224])\n",
      "torch.Size([64, 3, 224, 224])\n",
      "torch.Size([64, 3, 224, 224])\n",
      "torch.Size([64, 3, 224, 224])\n",
      "torch.Size([64, 3, 224, 224])\n",
      "torch.Size([64, 3, 224, 224])\n",
      "torch.Size([64, 3, 224, 224])\n",
      "torch.Size([64, 3, 224, 224])\n",
      "torch.Size([64, 3, 224, 224])\n",
      "torch.Size([64, 3, 224, 224])\n",
      "torch.Size([64, 3, 224, 224])\n",
      "torch.Size([64, 3, 224, 224])\n"
     ]
    },
    {
     "data": {
      "application/vnd.jupyter.widget-view+json": {
       "model_id": "fa0e2674911042e0a592a616846644ca",
       "version_major": 2,
       "version_minor": 0
      },
      "text/plain": [
       "layer packaging:   0%|          | 0/15 [00:00<?, ?it/s]"
      ]
     },
     "metadata": {},
     "output_type": "display_data"
    },
    {
     "name": "stderr",
     "output_type": "stream",
     "text": [
      "\n",
      "\n",
      "layer principal components:   0%|                                        | 0/15 [00:00<?, ?it/s]\u001b[A\u001b[A\n",
      "\n",
      "layer principal components:   7%|█▉                           | 1/15 [06:47<1:35:09, 407.82s/it]\u001b[A\u001b[A\n",
      "\n",
      "IOStream.flush timed out\n",
      "layer principal components:  60%|███████████████████▏            | 9/15 [08:00<01:16, 12.83s/it]\u001b[A\u001b[A\n",
      "\n",
      "layer principal components:  87%|██████████████████████████▊    | 13/15 [09:10<00:26, 13.04s/it]\u001b[A\u001b[A\n",
      "\n",
      "layer principal components:  87%|██████████████████████████▊    | 13/15 [09:10<00:26, 13.04s/it]\u001b[A\u001b[A\n",
      "\n",
      "layer principal components:  87%|██████████████████████████▊    | 13/15 [09:10<00:26, 13.04s/it]\u001b[A\u001b[A\n",
      "\n",
      "layer principal components:  87%|██████████████████████████▊    | 13/15 [09:10<00:26, 13.04s/it]\u001b[A\u001b[A\n",
      "\n",
      "layer principal components:  87%|██████████████████████████▊    | 13/15 [09:10<00:26, 13.04s/it]\u001b[A\u001b[A\n",
      "\n",
      "layer principal components:  87%|██████████████████████████▊    | 13/15 [09:10<00:26, 13.04s/it]\u001b[A\u001b[A\n",
      "\n",
      "layer principal components:  87%|██████████████████████████▊    | 13/15 [09:10<00:26, 13.04s/it]\u001b[A\u001b[A\n",
      "\n",
      "layer principal components:  87%|██████████████████████████▊    | 13/15 [09:10<00:26, 13.04s/it]\u001b[A\u001b[A\n",
      "\n",
      "layer principal components:  87%|██████████████████████████▊    | 13/15 [09:10<00:26, 13.04s/it]\u001b[A\u001b[A\n",
      "\n",
      "layer principal components:  87%|██████████████████████████▊    | 13/15 [09:10<00:26, 13.04s/it]\u001b[A\u001b[A\n",
      "\n",
      "layer principal components: 100%|███████████████████████████████| 15/15 [09:10<00:00, 36.72s/it]\u001b[A\u001b[A\n"
     ]
    },
    {
     "name": "stdout",
     "output_type": "stream",
     "text": [
      "torch.Size([64, 3, 224, 224])\n",
      "torch.Size([64, 3, 224, 224])\n"
     ]
    },
    {
     "data": {
      "application/vnd.jupyter.widget-view+json": {
       "model_id": "196863c537ce4741b0a4849f59ca5401",
       "version_major": 2,
       "version_minor": 0
      },
      "text/plain": [
       "layer packaging:   0%|          | 0/15 [00:00<?, ?it/s]"
      ]
     },
     "metadata": {},
     "output_type": "display_data"
    },
    {
     "name": "stderr",
     "output_type": "stream",
     "text": [
      "\n",
      "cross-validation:   0%|                                                  | 0/10 [00:00<?, ?it/s]\u001b[A\n",
      "cross-validation:  10%|████▏                                     | 1/10 [00:00<00:03,  2.41it/s]\u001b[A\n",
      "cross-validation:  20%|████████▍                                 | 2/10 [00:00<00:03,  2.34it/s]\u001b[A\n",
      "cross-validation:  30%|████████████▌                             | 3/10 [00:01<00:02,  2.34it/s]\u001b[A\n",
      "cross-validation:  40%|████████████████▊                         | 4/10 [00:01<00:02,  2.35it/s]\u001b[A\n",
      "cross-validation:  50%|█████████████████████                     | 5/10 [00:02<00:02,  2.34it/s]\u001b[A\n",
      "cross-validation:  60%|█████████████████████████▏                | 6/10 [00:02<00:01,  2.26it/s]\u001b[A\n",
      "cross-validation:  70%|█████████████████████████████▍            | 7/10 [00:03<00:01,  2.26it/s]\u001b[A\n",
      "cross-validation:  80%|█████████████████████████████████▌        | 8/10 [00:03<00:00,  2.27it/s]\u001b[A\n",
      "cross-validation:  90%|█████████████████████████████████████▊    | 9/10 [00:03<00:00,  2.24it/s]\u001b[A\n",
      "cross-validation: 100%|█████████████████████████████████████████| 10/10 [00:04<00:00,  2.29it/s]\u001b[A\n",
      "layers:   7%|███▎                                             | 1/15 [10:41<2:29:41, 641.51s/it]\n",
      "cross-validation:   0%|                                                  | 0/10 [00:00<?, ?it/s]\u001b[A\n",
      "cross-validation:  10%|████▏                                     | 1/10 [00:00<00:03,  2.42it/s]\u001b[A\n",
      "cross-validation:  20%|████████▍                                 | 2/10 [00:00<00:04,  1.97it/s]\u001b[A\n",
      "cross-validation:  30%|████████████▌                             | 3/10 [00:01<00:03,  2.20it/s]\u001b[A\n",
      "cross-validation:  40%|████████████████▊                         | 4/10 [00:01<00:02,  2.11it/s]\u001b[A\n",
      "cross-validation:  50%|█████████████████████                     | 5/10 [00:02<00:02,  2.01it/s]\u001b[A\n",
      "cross-validation:  60%|█████████████████████████▏                | 6/10 [00:02<00:01,  2.11it/s]\u001b[A\n",
      "cross-validation:  70%|█████████████████████████████▍            | 7/10 [00:03<00:01,  2.21it/s]\u001b[A\n",
      "cross-validation:  80%|█████████████████████████████████▌        | 8/10 [00:03<00:00,  2.28it/s]\u001b[A\n",
      "cross-validation:  90%|█████████████████████████████████████▊    | 9/10 [00:04<00:00,  2.35it/s]\u001b[A\n",
      "cross-validation: 100%|█████████████████████████████████████████| 10/10 [00:04<00:00,  2.23it/s]\u001b[A\n",
      "layers:  13%|██████▊                                            | 2/15 [10:46<57:48, 266.84s/it]\n",
      "cross-validation:   0%|                                                  | 0/10 [00:00<?, ?it/s]\u001b[A\n",
      "cross-validation:  10%|████▏                                     | 1/10 [00:00<00:03,  2.54it/s]\u001b[A\n",
      "cross-validation:  20%|████████▍                                 | 2/10 [00:00<00:03,  2.49it/s]\u001b[A\n",
      "cross-validation:  30%|████████████▌                             | 3/10 [00:01<00:03,  2.07it/s]\u001b[A\n",
      "cross-validation:  40%|████████████████▊                         | 4/10 [00:01<00:02,  2.20it/s]\u001b[A\n",
      "cross-validation:  50%|█████████████████████                     | 5/10 [00:02<00:02,  2.26it/s]\u001b[A\n",
      "cross-validation:  60%|█████████████████████████▏                | 6/10 [00:02<00:01,  2.28it/s]\u001b[A\n",
      "cross-validation:  70%|█████████████████████████████▍            | 7/10 [00:03<00:01,  2.31it/s]\u001b[A\n",
      "cross-validation:  80%|█████████████████████████████████▌        | 8/10 [00:03<00:00,  2.35it/s]\u001b[A\n",
      "cross-validation:  90%|█████████████████████████████████████▊    | 9/10 [00:03<00:00,  2.38it/s]\u001b[A\n",
      "cross-validation: 100%|█████████████████████████████████████████| 10/10 [00:04<00:00,  2.33it/s]\u001b[A\n",
      "layers:  20%|██████████▏                                        | 3/15 [10:50<29:23, 146.99s/it]\n",
      "cross-validation:   0%|                                                  | 0/10 [00:00<?, ?it/s]\u001b[A\n",
      "cross-validation:  10%|████▏                                     | 1/10 [00:00<00:03,  2.57it/s]\u001b[A\n",
      "cross-validation:  20%|████████▍                                 | 2/10 [00:00<00:03,  2.56it/s]\u001b[A\n",
      "cross-validation:  30%|████████████▌                             | 3/10 [00:01<00:03,  2.10it/s]\u001b[A\n",
      "cross-validation:  40%|████████████████▊                         | 4/10 [00:01<00:02,  2.27it/s]\u001b[A\n",
      "cross-validation:  50%|█████████████████████                     | 5/10 [00:02<00:02,  2.38it/s]\u001b[A\n",
      "cross-validation:  60%|█████████████████████████▏                | 6/10 [00:02<00:01,  2.31it/s]\u001b[A\n",
      "cross-validation:  70%|█████████████████████████████▍            | 7/10 [00:02<00:01,  2.42it/s]\u001b[A\n",
      "cross-validation:  80%|█████████████████████████████████▌        | 8/10 [00:03<00:00,  2.24it/s]\u001b[A\n",
      "cross-validation:  90%|█████████████████████████████████████▊    | 9/10 [00:03<00:00,  2.33it/s]\u001b[A\n",
      "cross-validation: 100%|█████████████████████████████████████████| 10/10 [00:04<00:00,  2.35it/s]\u001b[A\n",
      "layers:  27%|█████████████▊                                      | 4/15 [10:54<16:37, 90.68s/it]\n",
      "cross-validation:   0%|                                                  | 0/10 [00:00<?, ?it/s]\u001b[A\n",
      "cross-validation:  10%|████▏                                     | 1/10 [00:00<00:03,  2.63it/s]\u001b[A\n",
      "cross-validation:  20%|████████▍                                 | 2/10 [00:00<00:03,  2.61it/s]\u001b[A\n",
      "cross-validation:  30%|████████████▌                             | 3/10 [00:01<00:02,  2.60it/s]\u001b[A\n",
      "cross-validation:  40%|████████████████▊                         | 4/10 [00:01<00:02,  2.64it/s]\u001b[A\n",
      "cross-validation:  50%|█████████████████████                     | 5/10 [00:02<00:02,  2.20it/s]\u001b[A\n",
      "cross-validation:  60%|█████████████████████████▏                | 6/10 [00:02<00:01,  2.33it/s]\u001b[A\n",
      "cross-validation:  70%|█████████████████████████████▍            | 7/10 [00:02<00:01,  2.40it/s]\u001b[A\n",
      "cross-validation:  80%|█████████████████████████████████▌        | 8/10 [00:03<00:00,  2.47it/s]\u001b[A\n",
      "cross-validation:  90%|█████████████████████████████████████▊    | 9/10 [00:03<00:00,  2.54it/s]\u001b[A\n",
      "cross-validation: 100%|█████████████████████████████████████████| 10/10 [00:04<00:00,  2.49it/s]\u001b[A\n",
      "layers:  33%|█████████████████▎                                  | 5/15 [10:58<09:54, 59.46s/it]\n",
      "cross-validation:   0%|                                                  | 0/10 [00:00<?, ?it/s]\u001b[A\n",
      "cross-validation:  10%|████▏                                     | 1/10 [00:00<00:03,  2.87it/s]\u001b[A\n",
      "cross-validation:  20%|████████▍                                 | 2/10 [00:00<00:02,  2.87it/s]\u001b[A\n",
      "cross-validation:  30%|████████████▌                             | 3/10 [00:01<00:02,  2.81it/s]\u001b[A\n",
      "cross-validation:  40%|████████████████▊                         | 4/10 [00:01<00:02,  2.81it/s]\u001b[A\n",
      "cross-validation:  50%|█████████████████████                     | 5/10 [00:01<00:01,  2.77it/s]\u001b[A\n",
      "cross-validation:  60%|█████████████████████████▏                | 6/10 [00:02<00:01,  2.34it/s]\u001b[A\n",
      "cross-validation:  70%|█████████████████████████████▍            | 7/10 [00:02<00:01,  2.43it/s]\u001b[A\n",
      "cross-validation:  80%|█████████████████████████████████▌        | 8/10 [00:03<00:00,  2.55it/s]\u001b[A\n",
      "cross-validation:  90%|█████████████████████████████████████▊    | 9/10 [00:03<00:00,  2.63it/s]\u001b[A\n",
      "cross-validation: 100%|█████████████████████████████████████████| 10/10 [00:03<00:00,  2.63it/s]\u001b[A\n",
      "layers:  40%|████████████████████▊                               | 6/15 [11:02<06:05, 40.57s/it]\n",
      "cross-validation:   0%|                                                  | 0/10 [00:00<?, ?it/s]\u001b[A\n",
      "cross-validation:  10%|████▏                                     | 1/10 [00:00<00:03,  2.59it/s]\u001b[A\n",
      "cross-validation:  20%|████████▍                                 | 2/10 [00:00<00:02,  2.70it/s]\u001b[A\n",
      "cross-validation:  30%|████████████▌                             | 3/10 [00:01<00:02,  2.71it/s]\u001b[A\n",
      "cross-validation:  40%|████████████████▊                         | 4/10 [00:01<00:02,  2.75it/s]\u001b[A\n",
      "cross-validation:  50%|█████████████████████                     | 5/10 [00:01<00:01,  2.71it/s]\u001b[A\n",
      "cross-validation:  60%|█████████████████████████▏                | 6/10 [00:02<00:01,  2.69it/s]\u001b[A\n",
      "cross-validation:  70%|█████████████████████████████▍            | 7/10 [00:02<00:01,  2.28it/s]\u001b[A\n",
      "cross-validation:  80%|█████████████████████████████████▌        | 8/10 [00:03<00:00,  2.45it/s]\u001b[A\n",
      "cross-validation:  90%|█████████████████████████████████████▊    | 9/10 [00:03<00:00,  2.55it/s]\u001b[A\n",
      "cross-validation: 100%|█████████████████████████████████████████| 10/10 [00:03<00:00,  2.59it/s]\u001b[A\n",
      "layers:  47%|████████████████████████▎                           | 7/15 [11:06<03:48, 28.59s/it]\n",
      "cross-validation:   0%|                                                  | 0/10 [00:00<?, ?it/s]\u001b[A\n",
      "cross-validation:  10%|████▏                                     | 1/10 [00:00<00:03,  2.80it/s]\u001b[A\n",
      "cross-validation:  20%|████████▍                                 | 2/10 [00:00<00:02,  2.81it/s]\u001b[A\n",
      "cross-validation:  30%|████████████▌                             | 3/10 [00:01<00:02,  2.78it/s]\u001b[A\n",
      "cross-validation:  40%|████████████████▊                         | 4/10 [00:01<00:02,  2.77it/s]\u001b[A\n",
      "cross-validation:  50%|█████████████████████                     | 5/10 [00:01<00:01,  2.59it/s]\u001b[A\n",
      "cross-validation:  60%|█████████████████████████▏                | 6/10 [00:02<00:01,  2.64it/s]\u001b[A\n",
      "cross-validation:  70%|█████████████████████████████▍            | 7/10 [00:02<00:01,  2.80it/s]\u001b[A\n",
      "cross-validation:  80%|█████████████████████████████████▌        | 8/10 [00:02<00:00,  2.78it/s]\u001b[A\n",
      "cross-validation:  90%|█████████████████████████████████████▊    | 9/10 [00:03<00:00,  2.34it/s]\u001b[A\n",
      "cross-validation: 100%|█████████████████████████████████████████| 10/10 [00:03<00:00,  2.60it/s]\u001b[A\n",
      "layers:  53%|███████████████████████████▋                        | 8/15 [11:10<02:25, 20.74s/it]\n",
      "cross-validation:   0%|                                                  | 0/10 [00:00<?, ?it/s]\u001b[A\n",
      "cross-validation:  10%|████▏                                     | 1/10 [00:00<00:03,  2.81it/s]\u001b[A\n",
      "cross-validation:  20%|████████▍                                 | 2/10 [00:00<00:02,  2.81it/s]\u001b[A\n",
      "cross-validation:  30%|████████████▌                             | 3/10 [00:01<00:02,  2.81it/s]\u001b[A\n",
      "cross-validation:  40%|████████████████▊                         | 4/10 [00:01<00:02,  2.78it/s]\u001b[A\n",
      "cross-validation:  50%|█████████████████████                     | 5/10 [00:01<00:01,  2.77it/s]\u001b[A\n",
      "cross-validation:  60%|█████████████████████████▏                | 6/10 [00:02<00:01,  2.71it/s]\u001b[A\n",
      "cross-validation:  70%|█████████████████████████████▍            | 7/10 [00:02<00:01,  2.53it/s]\u001b[A\n",
      "cross-validation:  80%|█████████████████████████████████▌        | 8/10 [00:02<00:00,  2.60it/s]\u001b[A\n",
      "cross-validation:  90%|█████████████████████████████████████▊    | 9/10 [00:03<00:00,  2.64it/s]\u001b[A\n",
      "cross-validation: 100%|█████████████████████████████████████████| 10/10 [00:03<00:00,  2.69it/s]\u001b[A\n",
      "layers:  60%|███████████████████████████████▏                    | 9/15 [11:14<01:32, 15.45s/it]\n",
      "cross-validation:   0%|                                                  | 0/10 [00:00<?, ?it/s]\u001b[A\n",
      "cross-validation:  10%|████▏                                     | 1/10 [00:00<00:05,  1.80it/s]\u001b[A\n",
      "cross-validation:  20%|████████▍                                 | 2/10 [00:00<00:03,  2.27it/s]\u001b[A\n",
      "cross-validation:  30%|████████████▌                             | 3/10 [00:01<00:02,  2.46it/s]\u001b[A\n",
      "cross-validation:  40%|████████████████▊                         | 4/10 [00:01<00:02,  2.56it/s]\u001b[A\n",
      "cross-validation:  50%|█████████████████████                     | 5/10 [00:02<00:01,  2.64it/s]\u001b[A\n",
      "cross-validation:  60%|█████████████████████████▏                | 6/10 [00:02<00:01,  2.70it/s]\u001b[A\n",
      "cross-validation:  70%|█████████████████████████████▍            | 7/10 [00:02<00:01,  2.75it/s]\u001b[A\n",
      "cross-validation:  80%|█████████████████████████████████▌        | 8/10 [00:03<00:00,  2.75it/s]\u001b[A\n",
      "cross-validation:  90%|█████████████████████████████████████▊    | 9/10 [00:03<00:00,  2.75it/s]\u001b[A\n",
      "cross-validation: 100%|█████████████████████████████████████████| 10/10 [00:03<00:00,  2.63it/s]\u001b[A\n",
      "layers:  67%|██████████████████████████████████                 | 10/15 [11:18<00:59, 11.88s/it]\n",
      "cross-validation:   0%|                                                  | 0/10 [00:00<?, ?it/s]\u001b[A\n",
      "cross-validation:  10%|████▏                                     | 1/10 [00:00<00:03,  2.79it/s]\u001b[A\n",
      "cross-validation:  20%|████████▍                                 | 2/10 [00:00<00:02,  2.75it/s]\u001b[A\n",
      "cross-validation:  30%|████████████▌                             | 3/10 [00:01<00:03,  2.22it/s]\u001b[A\n",
      "cross-validation:  40%|████████████████▊                         | 4/10 [00:01<00:02,  2.39it/s]\u001b[A\n",
      "cross-validation:  50%|█████████████████████                     | 5/10 [00:02<00:01,  2.51it/s]\u001b[A\n",
      "cross-validation:  60%|█████████████████████████▏                | 6/10 [00:02<00:01,  2.60it/s]\u001b[A\n",
      "cross-validation:  70%|█████████████████████████████▍            | 7/10 [00:02<00:01,  2.64it/s]\u001b[A\n",
      "cross-validation:  80%|█████████████████████████████████▌        | 8/10 [00:03<00:00,  2.66it/s]\u001b[A\n",
      "cross-validation:  90%|█████████████████████████████████████▊    | 9/10 [00:03<00:00,  2.70it/s]\u001b[A\n",
      "cross-validation: 100%|█████████████████████████████████████████| 10/10 [00:03<00:00,  2.60it/s]\u001b[A\n",
      "layers:  73%|█████████████████████████████████████▍             | 11/15 [11:22<00:37,  9.45s/it]\n",
      "cross-validation:   0%|                                                  | 0/10 [00:00<?, ?it/s]\u001b[A\n",
      "cross-validation:  10%|████▏                                     | 1/10 [00:00<00:03,  2.66it/s]\u001b[A\n",
      "cross-validation:  20%|████████▍                                 | 2/10 [00:00<00:03,  2.38it/s]\u001b[A\n",
      "cross-validation:  30%|████████████▌                             | 3/10 [00:01<00:03,  2.13it/s]\u001b[A\n",
      "cross-validation:  40%|████████████████▊                         | 4/10 [00:01<00:02,  2.23it/s]\u001b[A\n",
      "cross-validation:  50%|█████████████████████                     | 5/10 [00:02<00:02,  1.98it/s]\u001b[A\n",
      "cross-validation:  60%|█████████████████████████▏                | 6/10 [00:02<00:01,  2.15it/s]\u001b[A\n",
      "cross-validation:  70%|█████████████████████████████▍            | 7/10 [00:03<00:01,  2.23it/s]\u001b[A\n",
      "cross-validation:  80%|█████████████████████████████████▌        | 8/10 [00:03<00:00,  2.34it/s]\u001b[A\n",
      "cross-validation:  90%|█████████████████████████████████████▊    | 9/10 [00:03<00:00,  2.42it/s]\u001b[A\n",
      "cross-validation: 100%|█████████████████████████████████████████| 10/10 [00:04<00:00,  2.31it/s]\u001b[A\n",
      "layers:  80%|████████████████████████████████████████▊          | 12/15 [11:26<00:23,  7.92s/it]\n",
      "cross-validation:   0%|                                                  | 0/10 [00:00<?, ?it/s]\u001b[A\n",
      "cross-validation:  10%|████▏                                     | 1/10 [00:00<00:03,  2.65it/s]\u001b[A\n",
      "cross-validation:  20%|████████▍                                 | 2/10 [00:00<00:03,  2.38it/s]\u001b[A\n",
      "cross-validation:  30%|████████████▌                             | 3/10 [00:01<00:02,  2.41it/s]\u001b[A\n",
      "cross-validation:  40%|████████████████▊                         | 4/10 [00:01<00:02,  2.36it/s]\u001b[A\n",
      "cross-validation:  50%|█████████████████████                     | 5/10 [00:02<00:02,  2.41it/s]\u001b[A\n",
      "cross-validation:  60%|█████████████████████████▏                | 6/10 [00:02<00:01,  2.42it/s]\u001b[A\n",
      "cross-validation:  70%|█████████████████████████████▍            | 7/10 [00:03<00:01,  2.05it/s]\u001b[A\n",
      "cross-validation:  80%|█████████████████████████████████▌        | 8/10 [00:03<00:00,  2.18it/s]\u001b[A\n",
      "cross-validation:  90%|█████████████████████████████████████▊    | 9/10 [00:03<00:00,  2.24it/s]\u001b[A\n",
      "cross-validation: 100%|█████████████████████████████████████████| 10/10 [00:04<00:00,  2.28it/s]\u001b[A\n",
      "layers:  87%|████████████████████████████████████████████▏      | 13/15 [11:31<00:13,  6.87s/it]\n",
      "cross-validation:   0%|                                                  | 0/10 [00:00<?, ?it/s]\u001b[A\n",
      "cross-validation:  10%|████▏                                     | 1/10 [00:00<00:03,  2.41it/s]\u001b[A\n",
      "cross-validation:  20%|████████▍                                 | 2/10 [00:00<00:03,  2.45it/s]\u001b[A\n",
      "cross-validation:  30%|████████████▌                             | 3/10 [00:01<00:02,  2.48it/s]\u001b[A\n",
      "cross-validation:  40%|████████████████▊                         | 4/10 [00:01<00:02,  2.43it/s]\u001b[A\n",
      "cross-validation:  50%|█████████████████████                     | 5/10 [00:02<00:02,  2.41it/s]\u001b[A\n",
      "cross-validation:  60%|█████████████████████████▏                | 6/10 [00:02<00:01,  2.33it/s]\u001b[A\n",
      "cross-validation:  70%|█████████████████████████████▍            | 7/10 [00:02<00:01,  2.29it/s]\u001b[A\n",
      "cross-validation:  80%|█████████████████████████████████▌        | 8/10 [00:03<00:00,  2.30it/s]\u001b[A\n",
      "cross-validation:  90%|█████████████████████████████████████▊    | 9/10 [00:03<00:00,  2.29it/s]\u001b[A\n",
      "cross-validation: 100%|█████████████████████████████████████████| 10/10 [00:04<00:00,  2.31it/s]\u001b[A\n",
      "layers:  93%|███████████████████████████████████████████████▌   | 14/15 [11:35<00:06,  6.13s/it]\n",
      "cross-validation:   0%|                                                  | 0/10 [00:00<?, ?it/s]\u001b[A\n",
      "cross-validation:  10%|████▏                                     | 1/10 [00:00<00:05,  1.50it/s]\u001b[A\n",
      "cross-validation:  20%|████████▍                                 | 2/10 [00:01<00:04,  1.93it/s]\u001b[A\n",
      "cross-validation:  30%|████████████▌                             | 3/10 [00:01<00:03,  2.16it/s]\u001b[A\n",
      "cross-validation:  40%|████████████████▊                         | 4/10 [00:01<00:02,  2.21it/s]\u001b[A\n",
      "cross-validation:  50%|█████████████████████                     | 5/10 [00:02<00:02,  2.22it/s]\u001b[A\n",
      "cross-validation:  60%|█████████████████████████▏                | 6/10 [00:02<00:01,  2.27it/s]\u001b[A\n",
      "cross-validation:  70%|█████████████████████████████▍            | 7/10 [00:03<00:01,  2.36it/s]\u001b[A\n",
      "cross-validation:  80%|█████████████████████████████████▌        | 8/10 [00:03<00:00,  2.36it/s]\u001b[A\n",
      "cross-validation:  90%|█████████████████████████████████████▊    | 9/10 [00:04<00:00,  2.38it/s]\u001b[A\n",
      "cross-validation: 100%|█████████████████████████████████████████| 10/10 [00:04<00:00,  2.27it/s]\u001b[A\n",
      "layers: 100%|███████████████████████████████████████████████████| 15/15 [11:40<00:00, 46.67s/it]\n"
     ]
    },
    {
     "data": {
      "application/vnd.jupyter.widget-view+json": {
       "model_id": "e7d7d6e002d8463084cb50ca68eaa5fe",
       "version_major": 2,
       "version_minor": 0
      },
      "text/plain": [
       "activations:   0%|          | 0/192 [00:00<?, ?it/s]"
      ]
     },
     "metadata": {},
     "output_type": "display_data"
    },
    {
     "name": "stdout",
     "output_type": "stream",
     "text": [
      "torch.Size([64, 3, 224, 224])\n",
      "torch.Size([64, 3, 224, 224])\n",
      "torch.Size([64, 3, 224, 224])\n"
     ]
    },
    {
     "data": {
      "application/vnd.jupyter.widget-view+json": {
       "model_id": "ebabe86a2b6c40fb8e30bba72ee2ea59",
       "version_major": 2,
       "version_minor": 0
      },
      "text/plain": [
       "layer packaging:   0%|          | 0/1 [00:00<?, ?it/s]"
      ]
     },
     "metadata": {},
     "output_type": "display_data"
    },
    {
     "name": "stderr",
     "output_type": "stream",
     "text": [
      "cross-validation: 100%|█████████████████████████████████████████| 10/10 [02:35<00:00, 15.51s/it]"
     ]
    },
    {
     "name": "stdout",
     "output_type": "stream",
     "text": [
      "<xarray.Score ()>\n",
      "array(0.22296798)\n",
      "Attributes:\n",
      "    error:                 <xarray.Score ()>\\narray(0.00974894)\n",
      "    raw:                   <xarray.Score ()>\\narray(0.41589141)\\nAttributes:\\...\n",
      "    ceiling:               <xarray.DataArray ()>\\narray(0.88076227)\\nAttribut...\n",
      "    model_identifier:      vit_v1.0\n",
      "    benchmark_identifier:  FreemanZiemba2013public.V1-pls\n",
      "    comment:               layers: {'V1': 'model.encoder.layer.1'}\n"
     ]
    },
    {
     "name": "stderr",
     "output_type": "stream",
     "text": [
      "\n"
     ]
    }
   ],
   "source": [
    "%load_ext autoreload\n",
    "%autoreload 2\n",
    "    \n",
    "from brainscore_vision import score\n",
    "\n",
    "model_score = score(model_identifier='vit_v1.0', benchmark_identifier='FreemanZiemba2013public.V1-pls')\n",
    "print(model_score)"
   ]
  },
  {
   "cell_type": "code",
   "execution_count": 15,
   "metadata": {},
   "outputs": [
    {
     "ename": "AssertionError",
     "evalue": "No registrations found for Geirhos2021colourErrorConsistency",
     "output_type": "error",
     "traceback": [
      "\u001b[0;31m---------------------------------------------------------------------------\u001b[0m",
      "\u001b[0;31mAssertionError\u001b[0m                            Traceback (most recent call last)",
      "Cell \u001b[0;32mIn[15], line 1\u001b[0m\n\u001b[0;32m----> 1\u001b[0m model_score \u001b[38;5;241m=\u001b[39m \u001b[43mscore\u001b[49m\u001b[43m(\u001b[49m\u001b[43mmodel_identifier\u001b[49m\u001b[38;5;241;43m=\u001b[39;49m\u001b[38;5;124;43m'\u001b[39;49m\u001b[38;5;124;43mvit-base-patch16-224-in21k_debug0118\u001b[39;49m\u001b[38;5;124;43m'\u001b[39;49m\u001b[43m,\u001b[49m\u001b[43m \u001b[49m\u001b[43mbenchmark_identifier\u001b[49m\u001b[38;5;241;43m=\u001b[39;49m\u001b[38;5;124;43m\"\u001b[39;49m\u001b[38;5;124;43mGeirhos2021colourErrorConsistency\u001b[39;49m\u001b[38;5;124;43m\"\u001b[39;49m\u001b[43m)\u001b[49m\n\u001b[1;32m      2\u001b[0m \u001b[38;5;28mprint\u001b[39m(model_score)\n",
      "File \u001b[0;32m~/vision/brainscore_vision/__init__.py:103\u001b[0m, in \u001b[0;36mscore\u001b[0;34m(model_identifier, benchmark_identifier, conda_active)\u001b[0m\n\u001b[1;32m     86\u001b[0m \u001b[38;5;28;01mdef\u001b[39;00m \u001b[38;5;21mscore\u001b[39m(model_identifier: \u001b[38;5;28mstr\u001b[39m, benchmark_identifier: \u001b[38;5;28mstr\u001b[39m, conda_active: \u001b[38;5;28mbool\u001b[39m \u001b[38;5;241m=\u001b[39m \u001b[38;5;28;01mFalse\u001b[39;00m) \u001b[38;5;241m-\u001b[39m\u001b[38;5;241m>\u001b[39m Score:\n\u001b[1;32m     87\u001b[0m \u001b[38;5;250m    \u001b[39m\u001b[38;5;124;03m\"\"\"\u001b[39;00m\n\u001b[1;32m     88\u001b[0m \u001b[38;5;124;03m    Score the model referenced by the `model_identifier` on the benchmark referenced by the `benchmark_identifier`.\u001b[39;00m\n\u001b[1;32m     89\u001b[0m \u001b[38;5;124;03m    The model needs to implement the :class:`~brainscore_vision.model_interface.BrainModel` interface\u001b[39;00m\n\u001b[0;32m   (...)\u001b[0m\n\u001b[1;32m    101\u001b[0m \u001b[38;5;124;03m        this benchmark's ceiling such that 1 means the model matches the data to ceiling level.\u001b[39;00m\n\u001b[1;32m    102\u001b[0m \u001b[38;5;124;03m    \"\"\"\u001b[39;00m\n\u001b[0;32m--> 103\u001b[0m     \u001b[38;5;28;01mreturn\u001b[39;00m \u001b[43mwrap_score\u001b[49m\u001b[43m(\u001b[49m\u001b[38;5;18;43m__file__\u001b[39;49m\u001b[43m,\u001b[49m\n\u001b[1;32m    104\u001b[0m \u001b[43m                      \u001b[49m\u001b[43mmodel_identifier\u001b[49m\u001b[38;5;241;43m=\u001b[39;49m\u001b[43mmodel_identifier\u001b[49m\u001b[43m,\u001b[49m\u001b[43m \u001b[49m\u001b[43mbenchmark_identifier\u001b[49m\u001b[38;5;241;43m=\u001b[39;49m\u001b[43mbenchmark_identifier\u001b[49m\u001b[43m,\u001b[49m\n\u001b[1;32m    105\u001b[0m \u001b[43m                      \u001b[49m\u001b[43mscore_function\u001b[49m\u001b[38;5;241;43m=\u001b[39;49m\u001b[43m_run_score\u001b[49m\u001b[43m,\u001b[49m\u001b[43m \u001b[49m\u001b[43mconda_active\u001b[49m\u001b[38;5;241;43m=\u001b[39;49m\u001b[43mconda_active\u001b[49m\u001b[43m)\u001b[49m\n",
      "File \u001b[0;32m~/miniconda3/envs/brainscore/lib/python3.8/site-packages/brainscore_core/plugin_management/conda_score.py:88\u001b[0m, in \u001b[0;36mwrap_score\u001b[0;34m(library_path, model_identifier, benchmark_identifier, score_function, conda_active)\u001b[0m\n\u001b[1;32m     86\u001b[0m     result \u001b[38;5;241m=\u001b[39m conda_score()\n\u001b[1;32m     87\u001b[0m \u001b[38;5;28;01melse\u001b[39;00m:\n\u001b[0;32m---> 88\u001b[0m     result \u001b[38;5;241m=\u001b[39m \u001b[43mscore_function\u001b[49m\u001b[43m(\u001b[49m\u001b[43mmodel_identifier\u001b[49m\u001b[43m,\u001b[49m\u001b[43m \u001b[49m\u001b[43mbenchmark_identifier\u001b[49m\u001b[43m)\u001b[49m\n\u001b[1;32m     89\u001b[0m     CondaScore\u001b[38;5;241m.\u001b[39msave_score(result, Path(library_path), \u001b[38;5;124mf\u001b[39m\u001b[38;5;124m'\u001b[39m\u001b[38;5;132;01m{\u001b[39;00mmodel_identifier\u001b[38;5;132;01m}\u001b[39;00m\u001b[38;5;124m_\u001b[39m\u001b[38;5;132;01m{\u001b[39;00mbenchmark_identifier\u001b[38;5;132;01m}\u001b[39;00m\u001b[38;5;124m'\u001b[39m)\n\u001b[1;32m     91\u001b[0m \u001b[38;5;28;01mreturn\u001b[39;00m result\n",
      "File \u001b[0;32m~/vision/brainscore_vision/__init__.py:75\u001b[0m, in \u001b[0;36m_run_score\u001b[0;34m(model_identifier, benchmark_identifier)\u001b[0m\n\u001b[1;32m     71\u001b[0m \u001b[38;5;250m\u001b[39m\u001b[38;5;124;03m\"\"\"\u001b[39;00m\n\u001b[1;32m     72\u001b[0m \u001b[38;5;124;03mScore the model referenced by the `model_identifier` on the benchmark referenced by the `benchmark_identifier`.\u001b[39;00m\n\u001b[1;32m     73\u001b[0m \u001b[38;5;124;03m\"\"\"\u001b[39;00m\n\u001b[1;32m     74\u001b[0m model: BrainModel \u001b[38;5;241m=\u001b[39m load_model(model_identifier)\n\u001b[0;32m---> 75\u001b[0m benchmark: Benchmark \u001b[38;5;241m=\u001b[39m \u001b[43mload_benchmark\u001b[49m\u001b[43m(\u001b[49m\u001b[43mbenchmark_identifier\u001b[49m\u001b[43m)\u001b[49m\n\u001b[1;32m     76\u001b[0m score: Score \u001b[38;5;241m=\u001b[39m benchmark(model)\n\u001b[1;32m     77\u001b[0m score\u001b[38;5;241m.\u001b[39mattrs[\u001b[38;5;124m'\u001b[39m\u001b[38;5;124mmodel_identifier\u001b[39m\u001b[38;5;124m'\u001b[39m] \u001b[38;5;241m=\u001b[39m model_identifier\n",
      "File \u001b[0;32m~/vision/brainscore_vision/__init__.py:59\u001b[0m, in \u001b[0;36mload_benchmark\u001b[0;34m(identifier)\u001b[0m\n\u001b[1;32m     58\u001b[0m \u001b[38;5;28;01mdef\u001b[39;00m \u001b[38;5;21mload_benchmark\u001b[39m(identifier: \u001b[38;5;28mstr\u001b[39m) \u001b[38;5;241m-\u001b[39m\u001b[38;5;241m>\u001b[39m Benchmark:\n\u001b[0;32m---> 59\u001b[0m     \u001b[43mimport_plugin\u001b[49m\u001b[43m(\u001b[49m\u001b[38;5;124;43m'\u001b[39;49m\u001b[38;5;124;43mbrainscore_vision\u001b[39;49m\u001b[38;5;124;43m'\u001b[39;49m\u001b[43m,\u001b[49m\u001b[43m \u001b[49m\u001b[38;5;124;43m'\u001b[39;49m\u001b[38;5;124;43mbenchmarks\u001b[39;49m\u001b[38;5;124;43m'\u001b[39;49m\u001b[43m,\u001b[49m\u001b[43m \u001b[49m\u001b[43midentifier\u001b[49m\u001b[43m)\u001b[49m\n\u001b[1;32m     61\u001b[0m     \u001b[38;5;28;01mreturn\u001b[39;00m benchmark_registry[identifier]()\n",
      "File \u001b[0;32m~/miniconda3/envs/brainscore/lib/python3.8/site-packages/brainscore_core/plugin_management/import_plugin.py:90\u001b[0m, in \u001b[0;36mimport_plugin\u001b[0;34m(library_root, plugin_type, identifier, registry_prefix)\u001b[0m\n\u001b[1;32m     80\u001b[0m \u001b[38;5;28;01mdef\u001b[39;00m \u001b[38;5;21mimport_plugin\u001b[39m(library_root: \u001b[38;5;28mstr\u001b[39m, plugin_type: \u001b[38;5;28mstr\u001b[39m, identifier: \u001b[38;5;28mstr\u001b[39m, registry_prefix: \u001b[38;5;28mstr\u001b[39m \u001b[38;5;241m=\u001b[39m \u001b[38;5;28;01mNone\u001b[39;00m):\n\u001b[1;32m     81\u001b[0m \u001b[38;5;250m    \u001b[39m\u001b[38;5;124;03m\"\"\" \u001b[39;00m\n\u001b[1;32m     82\u001b[0m \u001b[38;5;124;03m    Installs the dependencies of the given plugin and imports its base package: \u001b[39;00m\n\u001b[1;32m     83\u001b[0m \u001b[38;5;124;03m    Given the identifier `Futrell2018-pearsonr` from library_root `brainscore_language`,\u001b[39;00m\n\u001b[0;32m   (...)\u001b[0m\n\u001b[1;32m     88\u001b[0m \u001b[38;5;124;03m        in that directory's requirements.txt, and the plugin base package is imported\u001b[39;00m\n\u001b[1;32m     89\u001b[0m \u001b[38;5;124;03m    \"\"\"\u001b[39;00m\n\u001b[0;32m---> 90\u001b[0m     importer \u001b[38;5;241m=\u001b[39m \u001b[43mImportPlugin\u001b[49m\u001b[43m(\u001b[49m\u001b[43mlibrary_root\u001b[49m\u001b[38;5;241;43m=\u001b[39;49m\u001b[43mlibrary_root\u001b[49m\u001b[43m,\u001b[49m\u001b[43m \u001b[49m\u001b[43mplugin_type\u001b[49m\u001b[38;5;241;43m=\u001b[39;49m\u001b[43mplugin_type\u001b[49m\u001b[43m,\u001b[49m\u001b[43m \u001b[49m\u001b[43midentifier\u001b[49m\u001b[38;5;241;43m=\u001b[39;49m\u001b[43midentifier\u001b[49m\u001b[43m,\u001b[49m\n\u001b[1;32m     91\u001b[0m \u001b[43m                            \u001b[49m\u001b[43mregistry_prefix\u001b[49m\u001b[38;5;241;43m=\u001b[39;49m\u001b[43mregistry_prefix\u001b[49m\u001b[43m)\u001b[49m\n\u001b[1;32m     93\u001b[0m     \u001b[38;5;28;01mif\u001b[39;00m installation_preference() \u001b[38;5;241m!=\u001b[39m \u001b[38;5;124m'\u001b[39m\u001b[38;5;124mno\u001b[39m\u001b[38;5;124m'\u001b[39m:\n\u001b[1;32m     94\u001b[0m         importer\u001b[38;5;241m.\u001b[39minstall_requirements()\n",
      "File \u001b[0;32m~/miniconda3/envs/brainscore/lib/python3.8/site-packages/brainscore_core/plugin_management/import_plugin.py:32\u001b[0m, in \u001b[0;36mImportPlugin.__init__\u001b[0;34m(self, library_root, plugin_type, identifier, registry_prefix)\u001b[0m\n\u001b[1;32m     30\u001b[0m registry_prefix \u001b[38;5;241m=\u001b[39m registry_prefix \u001b[38;5;129;01mor\u001b[39;00m \u001b[38;5;28mself\u001b[39m\u001b[38;5;241m.\u001b[39mplugin_type\u001b[38;5;241m.\u001b[39mstrip(\u001b[38;5;124m'\u001b[39m\u001b[38;5;124ms\u001b[39m\u001b[38;5;124m'\u001b[39m)\n\u001b[1;32m     31\u001b[0m \u001b[38;5;28mself\u001b[39m\u001b[38;5;241m.\u001b[39mregistry_name \u001b[38;5;241m=\u001b[39m registry_prefix \u001b[38;5;241m+\u001b[39m \u001b[38;5;124m'\u001b[39m\u001b[38;5;124m_registry\u001b[39m\u001b[38;5;124m'\u001b[39m\n\u001b[0;32m---> 32\u001b[0m \u001b[38;5;28mself\u001b[39m\u001b[38;5;241m.\u001b[39mplugin_dirname \u001b[38;5;241m=\u001b[39m \u001b[38;5;28;43mself\u001b[39;49m\u001b[38;5;241;43m.\u001b[39;49m\u001b[43mlocate_plugin\u001b[49m\u001b[43m(\u001b[49m\u001b[43m)\u001b[49m\n",
      "File \u001b[0;32m~/miniconda3/envs/brainscore/lib/python3.8/site-packages/brainscore_core/plugin_management/import_plugin.py:56\u001b[0m, in \u001b[0;36mImportPlugin.locate_plugin\u001b[0;34m(self)\u001b[0m\n\u001b[1;32m     53\u001b[0m             specified_plugin_dirname \u001b[38;5;241m=\u001b[39m plugin_dirname\n\u001b[1;32m     54\u001b[0m             plugin_registrations_count \u001b[38;5;241m+\u001b[39m\u001b[38;5;241m=\u001b[39m \u001b[38;5;241m1\u001b[39m\n\u001b[0;32m---> 56\u001b[0m \u001b[38;5;28;01massert\u001b[39;00m plugin_registrations_count \u001b[38;5;241m>\u001b[39m \u001b[38;5;241m0\u001b[39m, \u001b[38;5;124mf\u001b[39m\u001b[38;5;124m\"\u001b[39m\u001b[38;5;124mNo registrations found for \u001b[39m\u001b[38;5;132;01m{\u001b[39;00m\u001b[38;5;28mself\u001b[39m\u001b[38;5;241m.\u001b[39midentifier\u001b[38;5;132;01m}\u001b[39;00m\u001b[38;5;124m\"\u001b[39m\n\u001b[1;32m     57\u001b[0m \u001b[38;5;28;01massert\u001b[39;00m plugin_registrations_count \u001b[38;5;241m==\u001b[39m \u001b[38;5;241m1\u001b[39m, \u001b[38;5;124mf\u001b[39m\u001b[38;5;124m\"\u001b[39m\u001b[38;5;124mMore than one registration found for \u001b[39m\u001b[38;5;132;01m{\u001b[39;00m\u001b[38;5;28mself\u001b[39m\u001b[38;5;241m.\u001b[39midentifier\u001b[38;5;132;01m}\u001b[39;00m\u001b[38;5;124m\"\u001b[39m\n\u001b[1;32m     59\u001b[0m \u001b[38;5;28;01mreturn\u001b[39;00m specified_plugin_dirname\n",
      "\u001b[0;31mAssertionError\u001b[0m: No registrations found for Geirhos2021colourErrorConsistency"
     ]
    }
   ],
   "source": [
    "model_score = score(model_identifier='vit-base-patch16-224-in21k_debug0118', benchmark_identifier=\"Geirhos2021colourErrorConsistency\")\n",
    "print(model_score)"
   ]
  },
  {
   "cell_type": "code",
   "execution_count": null,
   "metadata": {},
   "outputs": [],
   "source": [
    "\n",
    "\"Geirhos2021colourErrorConsistency\"\n",
    "\"Geirhos2021colourAccuracy\""
   ]
  },
  {
   "cell_type": "markdown",
   "metadata": {
    "collapsed": false,
    "jupyter": {
     "outputs_hidden": false
    }
   },
   "source": [
    "We can also run a baseline model such as `pixels` on a neural benchmark `FreemanZiemba2013public.V1-pls`:"
   ]
  },
  {
   "cell_type": "code",
   "execution_count": 2,
   "metadata": {
    "ExecuteTime": {
     "end_time": "2024-01-02T15:10:21.856570100Z",
     "start_time": "2024-01-02T15:05:34.504027200Z"
    },
    "collapsed": false,
    "jupyter": {
     "outputs_hidden": false
    }
   },
   "outputs": [
    {
     "name": "stdout",
     "output_type": "stream",
     "text": [
      "Requirement already satisfied: numpy in /braintree/home/msch/miniconda3/lib/python3.6/site-packages (from -r /braintree/home/msch/brain-score_vision/brainscore_vision/metrics/regression_correlation/requirements.txt (line 1)) (1.19.2)\n",
      "Requirement already satisfied: scipy in /braintree/home/msch/miniconda3/lib/python3.6/site-packages (from -r /braintree/home/msch/brain-score_vision/brainscore_vision/metrics/regression_correlation/requirements.txt (line 2)) (1.3.1)\n",
      "Requirement already satisfied: scikit-learn in /braintree/home/msch/miniconda3/lib/python3.6/site-packages (from -r /braintree/home/msch/brain-score_vision/brainscore_vision/metrics/regression_correlation/requirements.txt (line 3)) (0.21.3)\n",
      "Requirement already satisfied: joblib>=0.11 in /braintree/home/msch/miniconda3/lib/python3.6/site-packages (from scikit-learn->-r /braintree/home/msch/brain-score_vision/brainscore_vision/metrics/regression_correlation/requirements.txt (line 3)) (0.14.0)\n",
      "Requirement already satisfied: scipy in /braintree/home/msch/miniconda3/lib/python3.6/site-packages (from -r /braintree/home/msch/brain-score_vision/brainscore_vision/metrics/internal_consistency/requirements.txt (line 1)) (1.3.1)\n",
      "Requirement already satisfied: numpy>=1.13.3 in /braintree/home/msch/miniconda3/lib/python3.6/site-packages (from scipy->-r /braintree/home/msch/brain-score_vision/brainscore_vision/metrics/internal_consistency/requirements.txt (line 1)) (1.19.2)\n"
     ]
    },
    {
     "name": "stderr",
     "output_type": "stream",
     "text": [
      "cross-validation: 100%|██████████| 10/10 [04:35<00:00, 27.52s/it]\n"
     ]
    },
    {
     "name": "stdout",
     "output_type": "stream",
     "text": [
      "<xarray.Score ()>\n",
      "array(0.04261842)\n",
      "Attributes:\n",
      "    error:                 <xarray.Score ()>\\narray(0.01319437)\n",
      "    raw:                   <xarray.Score ()>\\narray(0.18182658)\\nAttributes:\\...\n",
      "    ceiling:               <xarray.DataArray ()>\\narray(0.88076227)\\nAttribut...\n",
      "    model_identifier:      pixels\n",
      "    benchmark_identifier:  FreemanZiemba2013public.V1-pls\n",
      "    comment:               layers: {'V1': 'pixels'}\n"
     ]
    }
   ],
   "source": [
    "from brainscore_vision import score\n",
    "\n",
    "model_score = score(model_identifier='pixels', benchmark_identifier='FreemanZiemba2013public.V1-pls')\n",
    "print(model_score)"
   ]
  },
  {
   "cell_type": "markdown",
   "metadata": {
    "collapsed": false,
    "jupyter": {
     "outputs_hidden": false
    }
   },
   "source": [
    "Note that dependencies for the plugins (data, metrics, benchmarks, models) are automatically installed.\n",
    "\n",
    "We can also look at more detailed information, e.g. the per-split and per-neural-site predictivity. Note that `model_score.raw` is the unceiled score, and `model_score.raw.raw` are then the non-aggregated scores over splits and neuroids."
   ]
  },
  {
   "cell_type": "code",
   "execution_count": 3,
   "metadata": {
    "ExecuteTime": {
     "end_time": "2024-01-02T15:10:21.859569100Z",
     "start_time": "2024-01-02T15:10:21.848574800Z"
    },
    "collapsed": false,
    "jupyter": {
     "outputs_hidden": false
    }
   },
   "outputs": [
    {
     "name": "stdout",
     "output_type": "stream",
     "text": [
      "<xarray.Score (split: 10, neuroid: 102)>\n",
      "array([[-0.25345534,  0.01303586,  0.30828754, ...,  0.0223306 ,\n",
      "         0.30102909,  0.4920528 ],\n",
      "       [-0.05482497,  0.11002886,  0.14841954, ...,  0.55572781,\n",
      "        -0.04430274, -0.1642436 ],\n",
      "       [-0.06318995,  0.42114568,  0.45946783, ...,  0.18981179,\n",
      "         0.18145958,  0.33394005],\n",
      "       ...,\n",
      "       [-0.19257993,  0.23620396,  0.08730516, ...,  0.64914574,\n",
      "        -0.07092989,  0.09267104],\n",
      "       [-0.57049518, -0.01451499,  0.22357373, ..., -0.26036976,\n",
      "        -0.15267769,  0.05370434],\n",
      "       [ 0.11202058,  0.29133752,  0.39093855, ...,  0.5619918 ,\n",
      "         0.09093059,  0.51135041]])\n",
      "Coordinates:\n",
      "  * split       (split) int64 0 1 2 3 4 5 6 7 8 9\n",
      "  * neuroid     (neuroid) MultiIndex\n",
      "  - neuroid_id  (neuroid) int64 1 2 3 4 5 6 7 8 9 ... 95 96 97 98 99 100 101 102\n",
      "  - region      (neuroid) object 'V1' 'V1' 'V1' 'V1' ... 'V1' 'V1' 'V1' 'V1'\n"
     ]
    }
   ],
   "source": [
    "print(model_score.raw.raw)"
   ]
  }
 ],
 "metadata": {
  "kernelspec": {
   "display_name": "brainscore",
   "language": "python",
   "name": "brainscore"
  },
  "language_info": {
   "codemirror_mode": {
    "name": "ipython",
    "version": 3
   },
   "file_extension": ".py",
   "mimetype": "text/x-python",
   "name": "python",
   "nbconvert_exporter": "python",
   "pygments_lexer": "ipython3",
   "version": "3.8.0"
  },
  "widgets": {
   "application/vnd.jupyter.widget-state+json": {
    "state": {
     "0080fddaf9e148f3834b16cba269887d": {
      "model_module": "@jupyter-widgets/base",
      "model_module_version": "2.0.0",
      "model_name": "LayoutModel",
      "state": {}
     },
     "03013316e09d400ea4f956d68457d1d7": {
      "model_module": "@jupyter-widgets/controls",
      "model_module_version": "2.0.0",
      "model_name": "FloatProgressModel",
      "state": {
       "bar_style": "success",
       "layout": "IPY_MODEL_af409b86c695481ab3f375d521c86aeb",
       "max": 15,
       "style": "IPY_MODEL_5eec9cd426b84f45989409a4c46e2101",
       "value": 15
      }
     },
     "032fd92d981a40b48d5c9c1e7da41a7d": {
      "model_module": "@jupyter-widgets/base",
      "model_module_version": "2.0.0",
      "model_name": "LayoutModel",
      "state": {}
     },
     "048ca4463b70448c898377e68125f450": {
      "model_module": "@jupyter-widgets/controls",
      "model_module_version": "2.0.0",
      "model_name": "HTMLStyleModel",
      "state": {
       "description_width": "",
       "font_size": null,
       "text_color": null
      }
     },
     "05334b1ec9254091b16c8f9c17d1a3c3": {
      "model_module": "@jupyter-widgets/controls",
      "model_module_version": "2.0.0",
      "model_name": "HBoxModel",
      "state": {
       "children": [
        "IPY_MODEL_d56b79cd16d949d68e070cab890b9b92",
        "IPY_MODEL_3c735f43bd22447b8d09d40a769f85c0",
        "IPY_MODEL_b1b6445dc4aa49c2b449d722f7652afb"
       ],
       "layout": "IPY_MODEL_a39b79a5ae084931bfcc58ae1a857c7f"
      }
     },
     "06666de14ff64b5ba24894efbe67e6e3": {
      "model_module": "@jupyter-widgets/controls",
      "model_module_version": "2.0.0",
      "model_name": "FloatProgressModel",
      "state": {
       "bar_style": "success",
       "layout": "IPY_MODEL_73860beb89b54e3e8923b37fd76166c8",
       "max": 1024,
       "style": "IPY_MODEL_d9e2712969864ca68d7b3612e370104c",
       "value": 16
      }
     },
     "06f27de5ccb34fd89171e58e9943358e": {
      "model_module": "@jupyter-widgets/controls",
      "model_module_version": "2.0.0",
      "model_name": "FloatProgressModel",
      "state": {
       "bar_style": "success",
       "layout": "IPY_MODEL_4943d84dc32e4706a4644991673000a1",
       "max": 7,
       "style": "IPY_MODEL_b05cffa043d54700a9eab5b80375508e",
       "value": 7
      }
     },
     "0af7a0b2ce7643e8ba9c7e84f1b5a332": {
      "model_module": "@jupyter-widgets/controls",
      "model_module_version": "2.0.0",
      "model_name": "ProgressStyleModel",
      "state": {
       "description_width": ""
      }
     },
     "0ece799b3b1e4b3c88c89610dd8541fb": {
      "model_module": "@jupyter-widgets/controls",
      "model_module_version": "2.0.0",
      "model_name": "ProgressStyleModel",
      "state": {
       "description_width": ""
      }
     },
     "0f5132140722493c80005e805494eec0": {
      "model_module": "@jupyter-widgets/base",
      "model_module_version": "2.0.0",
      "model_name": "LayoutModel",
      "state": {}
     },
     "0f74f7d34fdf4c019ec34cee189e1502": {
      "model_module": "@jupyter-widgets/base",
      "model_module_version": "2.0.0",
      "model_name": "LayoutModel",
      "state": {}
     },
     "10ae82e5c1074863b62ed2a3440bbf4c": {
      "model_module": "@jupyter-widgets/controls",
      "model_module_version": "2.0.0",
      "model_name": "FloatProgressModel",
      "state": {
       "bar_style": "danger",
       "layout": "IPY_MODEL_fd88c31144d64e98a273ba81e6739325",
       "max": 192,
       "style": "IPY_MODEL_75e8b58679654851898b05532fe31220"
      }
     },
     "10dbe9b1a5854ad38e09b6fadf7dc139": {
      "model_module": "@jupyter-widgets/controls",
      "model_module_version": "2.0.0",
      "model_name": "ProgressStyleModel",
      "state": {
       "description_width": ""
      }
     },
     "1134a81c4604493ba48b77b2ad594676": {
      "model_module": "@jupyter-widgets/base",
      "model_module_version": "2.0.0",
      "model_name": "LayoutModel",
      "state": {}
     },
     "121c19d8107147138651e7352d012757": {
      "model_module": "@jupyter-widgets/controls",
      "model_module_version": "2.0.0",
      "model_name": "FloatProgressModel",
      "state": {
       "bar_style": "danger",
       "layout": "IPY_MODEL_4ead79d1b73b4684a856f74ba79c1616",
       "max": 192,
       "style": "IPY_MODEL_c9be18d35c6e432ea728c2f374596add"
      }
     },
     "1493175592f84dc98466cafc066fa5d0": {
      "model_module": "@jupyter-widgets/controls",
      "model_module_version": "2.0.0",
      "model_name": "HTMLStyleModel",
      "state": {
       "description_width": "",
       "font_size": null,
       "text_color": null
      }
     },
     "1520c8e466114376898df76fcc9befdf": {
      "model_module": "@jupyter-widgets/base",
      "model_module_version": "2.0.0",
      "model_name": "LayoutModel",
      "state": {}
     },
     "153c1151cac44ec6b942982c42f667bd": {
      "model_module": "@jupyter-widgets/controls",
      "model_module_version": "2.0.0",
      "model_name": "HTMLModel",
      "state": {
       "layout": "IPY_MODEL_5ecac74ea44540daa4a109457a02e7b9",
       "style": "IPY_MODEL_2f1f82589a7946e294b7adf10192a3c4",
       "value": "activations: 100%"
      }
     },
     "196863c537ce4741b0a4849f59ca5401": {
      "model_module": "@jupyter-widgets/controls",
      "model_module_version": "2.0.0",
      "model_name": "HBoxModel",
      "state": {
       "children": [
        "IPY_MODEL_4a06e0e3d6fd4a1496a18f07602abc1e",
        "IPY_MODEL_830d927212a24178aeeb720984d204aa",
        "IPY_MODEL_63b4567863534d05bbbc091ff0d7ebc4"
       ],
       "layout": "IPY_MODEL_3ff656b060d8463b9840e248b65e6390"
      }
     },
     "197e1180a0ca46a3a167ce88aa716c1f": {
      "model_module": "@jupyter-widgets/base",
      "model_module_version": "2.0.0",
      "model_name": "LayoutModel",
      "state": {}
     },
     "1e3ca2c7ada84733995f620792905595": {
      "model_module": "@jupyter-widgets/controls",
      "model_module_version": "2.0.0",
      "model_name": "ProgressStyleModel",
      "state": {
       "description_width": ""
      }
     },
     "1fe5ebe70d6843f9b5c7c9e25be3de57": {
      "model_module": "@jupyter-widgets/base",
      "model_module_version": "2.0.0",
      "model_name": "LayoutModel",
      "state": {}
     },
     "1fedc28ee81b4b309825a60c05ba877d": {
      "model_module": "@jupyter-widgets/controls",
      "model_module_version": "2.0.0",
      "model_name": "HTMLStyleModel",
      "state": {
       "description_width": "",
       "font_size": null,
       "text_color": null
      }
     },
     "20998bc5d9eb4f03a90d958ea4fa5de9": {
      "model_module": "@jupyter-widgets/base",
      "model_module_version": "2.0.0",
      "model_name": "LayoutModel",
      "state": {}
     },
     "22d4c609a6c44590a8d65b96ca03e8dd": {
      "model_module": "@jupyter-widgets/base",
      "model_module_version": "2.0.0",
      "model_name": "LayoutModel",
      "state": {}
     },
     "237a5c6980d443fa91ac7e4127c427c3": {
      "model_module": "@jupyter-widgets/controls",
      "model_module_version": "2.0.0",
      "model_name": "HTMLModel",
      "state": {
       "layout": "IPY_MODEL_615ee8f1aee848bb9b913b28c6339d9d",
       "style": "IPY_MODEL_048ca4463b70448c898377e68125f450",
       "value": " 192/192 [00:04&lt;00:00, 49.20it/s]"
      }
     },
     "2774b8c8c74146dbab91b2acc0e1f116": {
      "model_module": "@jupyter-widgets/controls",
      "model_module_version": "2.0.0",
      "model_name": "HBoxModel",
      "state": {
       "children": [
        "IPY_MODEL_ce17498645a94943a02355a5ff6f195a",
        "IPY_MODEL_c06e0b54d201424d8c0d02ff95c74756",
        "IPY_MODEL_39d52823eef74757a8bc21efb941ef55"
       ],
       "layout": "IPY_MODEL_baa93d31b6334470a3223098bd11eb94"
      }
     },
     "28a2227f53894c668eb3c0c3f98aca82": {
      "model_module": "@jupyter-widgets/controls",
      "model_module_version": "2.0.0",
      "model_name": "HTMLModel",
      "state": {
       "layout": "IPY_MODEL_94eb7bf07082441f9a588b5149b0edd4",
       "style": "IPY_MODEL_a3fb3fd4e85540fea121b83667d5d156",
       "value": " 192/192 [02:32&lt;00:00,  1.84it/s]"
      }
     },
     "29c23f2605a94f5a96b91503d399ff23": {
      "model_module": "@jupyter-widgets/base",
      "model_module_version": "2.0.0",
      "model_name": "LayoutModel",
      "state": {}
     },
     "2aecd9605f3a41599d8570271a55239f": {
      "model_module": "@jupyter-widgets/base",
      "model_module_version": "2.0.0",
      "model_name": "LayoutModel",
      "state": {}
     },
     "2cbefd31f6684ef3b79077ac0d1f065c": {
      "model_module": "@jupyter-widgets/base",
      "model_module_version": "2.0.0",
      "model_name": "LayoutModel",
      "state": {}
     },
     "2f1f82589a7946e294b7adf10192a3c4": {
      "model_module": "@jupyter-widgets/controls",
      "model_module_version": "2.0.0",
      "model_name": "HTMLStyleModel",
      "state": {
       "description_width": "",
       "font_size": null,
       "text_color": null
      }
     },
     "31a62a62d4a9463db84d1390e28a28c0": {
      "model_module": "@jupyter-widgets/base",
      "model_module_version": "2.0.0",
      "model_name": "LayoutModel",
      "state": {}
     },
     "31bb407ccbdb4b1daaa3d35e4e0f3e7a": {
      "model_module": "@jupyter-widgets/base",
      "model_module_version": "2.0.0",
      "model_name": "LayoutModel",
      "state": {}
     },
     "3832185fc8d94655bb584483a1339d4a": {
      "model_module": "@jupyter-widgets/base",
      "model_module_version": "2.0.0",
      "model_name": "LayoutModel",
      "state": {}
     },
     "39d52823eef74757a8bc21efb941ef55": {
      "model_module": "@jupyter-widgets/controls",
      "model_module_version": "2.0.0",
      "model_name": "HTMLModel",
      "state": {
       "layout": "IPY_MODEL_69ee3bf29b914b90986bc5b7552254e9",
       "style": "IPY_MODEL_f2170e11d251408d88b78144e916ff30",
       "value": " 1/1 [00:00&lt;00:00,  4.76it/s]"
      }
     },
     "3aa3ab105631430ca5b4fcca7b294696": {
      "model_module": "@jupyter-widgets/base",
      "model_module_version": "2.0.0",
      "model_name": "LayoutModel",
      "state": {}
     },
     "3b2ea2676a32482b9abb20c0f4d1a5cc": {
      "model_module": "@jupyter-widgets/controls",
      "model_module_version": "2.0.0",
      "model_name": "HTMLModel",
      "state": {
       "layout": "IPY_MODEL_a50384eaf5a643b1b7f03baf8450a5f5",
       "style": "IPY_MODEL_bcb9cfeb71ec40b1a5f7846cfce5409a",
       "value": "activations: 100%"
      }
     },
     "3c735f43bd22447b8d09d40a769f85c0": {
      "model_module": "@jupyter-widgets/controls",
      "model_module_version": "2.0.0",
      "model_name": "FloatProgressModel",
      "state": {
       "bar_style": "success",
       "layout": "IPY_MODEL_9032683f23bf4a81afc5524ecad2f589",
       "max": 1024,
       "style": "IPY_MODEL_402adcfebe284256afc0be8a971d0da1",
       "value": 16
      }
     },
     "3c88d39b1c3d41fbab0a48a6bcdea976": {
      "model_module": "@jupyter-widgets/controls",
      "model_module_version": "2.0.0",
      "model_name": "HTMLStyleModel",
      "state": {
       "description_width": "",
       "font_size": null,
       "text_color": null
      }
     },
     "3f020aea54974d15afc1a40a70e8aec6": {
      "model_module": "@jupyter-widgets/base",
      "model_module_version": "2.0.0",
      "model_name": "LayoutModel",
      "state": {}
     },
     "3ff656b060d8463b9840e248b65e6390": {
      "model_module": "@jupyter-widgets/base",
      "model_module_version": "2.0.0",
      "model_name": "LayoutModel",
      "state": {}
     },
     "402adcfebe284256afc0be8a971d0da1": {
      "model_module": "@jupyter-widgets/controls",
      "model_module_version": "2.0.0",
      "model_name": "ProgressStyleModel",
      "state": {
       "description_width": ""
      }
     },
     "403c2dac9e224633b3e03f2e27238a4c": {
      "model_module": "@jupyter-widgets/controls",
      "model_module_version": "2.0.0",
      "model_name": "HTMLModel",
      "state": {
       "layout": "IPY_MODEL_4ac762a50a564fa48782c242e108483a",
       "style": "IPY_MODEL_6d177ae6dfc548ce99ff881bd6c7cd44",
       "value": " 192/192 [10:36&lt;00:00,  2.24s/it]"
      }
     },
     "4082c25938dd445a8995fef6ea4c8440": {
      "model_module": "@jupyter-widgets/controls",
      "model_module_version": "2.0.0",
      "model_name": "HTMLModel",
      "state": {
       "layout": "IPY_MODEL_d0e93d27c7d24bc1a1e64d36d3ca2d9f",
       "style": "IPY_MODEL_cd66f7e7dd2840f4b01876b7d774880f",
       "value": " 0/192 [00:01&lt;?, ?it/s]"
      }
     },
     "409263f6e47647e2b9303b11ac2da2fa": {
      "model_module": "@jupyter-widgets/controls",
      "model_module_version": "2.0.0",
      "model_name": "HTMLModel",
      "state": {
       "layout": "IPY_MODEL_62f5aac6229b490a86fd477a076a8796",
       "style": "IPY_MODEL_f308fecfb099443792c0988a040cbee9",
       "value": " 0/192 [00:01&lt;?, ?it/s]"
      }
     },
     "413d6a1083034b7aa357cc99b72e8e19": {
      "model_module": "@jupyter-widgets/base",
      "model_module_version": "2.0.0",
      "model_name": "LayoutModel",
      "state": {}
     },
     "43e6da6eb25b46789af86443ce7103b8": {
      "model_module": "@jupyter-widgets/controls",
      "model_module_version": "2.0.0",
      "model_name": "HTMLModel",
      "state": {
       "layout": "IPY_MODEL_6605b60ded964c5ab8fd7419026e320f",
       "style": "IPY_MODEL_89389e7f8e6e4e40a1df0f0bd64a2f18",
       "value": "activations:   0%"
      }
     },
     "443f46cb018f4430ae195a8de7d5fd0d": {
      "model_module": "@jupyter-widgets/controls",
      "model_module_version": "2.0.0",
      "model_name": "ProgressStyleModel",
      "state": {
       "description_width": ""
      }
     },
     "4445ca49ee3044ba8359917aff23cf1c": {
      "model_module": "@jupyter-widgets/base",
      "model_module_version": "2.0.0",
      "model_name": "LayoutModel",
      "state": {}
     },
     "44b101e8f5a44ebeaa2e5f7fc62ece57": {
      "model_module": "@jupyter-widgets/controls",
      "model_module_version": "2.0.0",
      "model_name": "HTMLModel",
      "state": {
       "layout": "IPY_MODEL_3f020aea54974d15afc1a40a70e8aec6",
       "style": "IPY_MODEL_91c391199fca4025890404d842a34b2b",
       "value": "activations:   0%"
      }
     },
     "47ab3bacb1a94d76828c560471258cf8": {
      "model_module": "@jupyter-widgets/base",
      "model_module_version": "2.0.0",
      "model_name": "LayoutModel",
      "state": {}
     },
     "489afdd510694e25835f4c28e12f182c": {
      "model_module": "@jupyter-widgets/base",
      "model_module_version": "2.0.0",
      "model_name": "LayoutModel",
      "state": {}
     },
     "4943d84dc32e4706a4644991673000a1": {
      "model_module": "@jupyter-widgets/base",
      "model_module_version": "2.0.0",
      "model_name": "LayoutModel",
      "state": {}
     },
     "49b2b3d8adb44bfa9c6f6de0975859e4": {
      "model_module": "@jupyter-widgets/controls",
      "model_module_version": "2.0.0",
      "model_name": "HTMLModel",
      "state": {
       "layout": "IPY_MODEL_1520c8e466114376898df76fcc9befdf",
       "style": "IPY_MODEL_6047bb7311714004b71a577e6e8f161d",
       "value": " 7/7 [00:00&lt;00:00,  5.86it/s]"
      }
     },
     "4a06e0e3d6fd4a1496a18f07602abc1e": {
      "model_module": "@jupyter-widgets/controls",
      "model_module_version": "2.0.0",
      "model_name": "HTMLModel",
      "state": {
       "layout": "IPY_MODEL_20998bc5d9eb4f03a90d958ea4fa5de9",
       "style": "IPY_MODEL_afd97125bcc444598963aaf7d3bc6f7e",
       "value": "layer packaging: 100%"
      }
     },
     "4ac762a50a564fa48782c242e108483a": {
      "model_module": "@jupyter-widgets/base",
      "model_module_version": "2.0.0",
      "model_name": "LayoutModel",
      "state": {}
     },
     "4bef015da78d4cfab943ecf83d3373d3": {
      "model_module": "@jupyter-widgets/controls",
      "model_module_version": "2.0.0",
      "model_name": "ProgressStyleModel",
      "state": {
       "description_width": ""
      }
     },
     "4ead79d1b73b4684a856f74ba79c1616": {
      "model_module": "@jupyter-widgets/base",
      "model_module_version": "2.0.0",
      "model_name": "LayoutModel",
      "state": {}
     },
     "4efe1a320be54e32a54e9182929354da": {
      "model_module": "@jupyter-widgets/controls",
      "model_module_version": "2.0.0",
      "model_name": "ProgressStyleModel",
      "state": {
       "description_width": ""
      }
     },
     "4f3907b8e04a44bab9e0f1043c7fa529": {
      "model_module": "@jupyter-widgets/base",
      "model_module_version": "2.0.0",
      "model_name": "LayoutModel",
      "state": {}
     },
     "5047c51304ab49e9b260ccc71cba7fdf": {
      "model_module": "@jupyter-widgets/base",
      "model_module_version": "2.0.0",
      "model_name": "LayoutModel",
      "state": {}
     },
     "52a4dc39fd40439980043e829015a73d": {
      "model_module": "@jupyter-widgets/controls",
      "model_module_version": "2.0.0",
      "model_name": "HTMLStyleModel",
      "state": {
       "description_width": "",
       "font_size": null,
       "text_color": null
      }
     },
     "543fd4fef84b44798abbbfef684b62d3": {
      "model_module": "@jupyter-widgets/controls",
      "model_module_version": "2.0.0",
      "model_name": "ProgressStyleModel",
      "state": {
       "description_width": ""
      }
     },
     "54fe9b18bfa347de9bdeab060a83b430": {
      "model_module": "@jupyter-widgets/controls",
      "model_module_version": "2.0.0",
      "model_name": "HBoxModel",
      "state": {
       "children": [
        "IPY_MODEL_b962f20b0b4444ad8ee6816f957b1790",
        "IPY_MODEL_ac5798efd52545ad9846f86928d53556",
        "IPY_MODEL_28a2227f53894c668eb3c0c3f98aca82"
       ],
       "layout": "IPY_MODEL_ed61685993da4bed97f8260602fe7cf2"
      }
     },
     "572e477620f24ece9098b418aa13c0de": {
      "model_module": "@jupyter-widgets/controls",
      "model_module_version": "2.0.0",
      "model_name": "FloatProgressModel",
      "state": {
       "bar_style": "success",
       "layout": "IPY_MODEL_413d6a1083034b7aa357cc99b72e8e19",
       "max": 192,
       "style": "IPY_MODEL_443f46cb018f4430ae195a8de7d5fd0d",
       "value": 3
      }
     },
     "57b03c3c776542568fbb31a95385ffe1": {
      "model_module": "@jupyter-widgets/controls",
      "model_module_version": "2.0.0",
      "model_name": "HTMLStyleModel",
      "state": {
       "description_width": "",
       "font_size": null,
       "text_color": null
      }
     },
     "58ae4359e1f7421da00841a2fce172ca": {
      "model_module": "@jupyter-widgets/controls",
      "model_module_version": "2.0.0",
      "model_name": "ProgressStyleModel",
      "state": {
       "description_width": ""
      }
     },
     "58ee72c937d5405dade77fad60f21e0e": {
      "model_module": "@jupyter-widgets/controls",
      "model_module_version": "2.0.0",
      "model_name": "HBoxModel",
      "state": {
       "children": [
        "IPY_MODEL_650fd8b9bc4c42feab55b52236d1f1e0",
        "IPY_MODEL_06666de14ff64b5ba24894efbe67e6e3",
        "IPY_MODEL_8c2993376afc4d25aa3d0ab163881370"
       ],
       "layout": "IPY_MODEL_5f8f7cccdb9e468cb88d8abe9bb2db23"
      }
     },
     "5a19ea68442542ae9a1cbcc80b0ab70e": {
      "model_module": "@jupyter-widgets/controls",
      "model_module_version": "2.0.0",
      "model_name": "HTMLStyleModel",
      "state": {
       "description_width": "",
       "font_size": null,
       "text_color": null
      }
     },
     "5a44de767f3b449b8bb2c7e17784040c": {
      "model_module": "@jupyter-widgets/base",
      "model_module_version": "2.0.0",
      "model_name": "LayoutModel",
      "state": {}
     },
     "5d0796bd07ac4cabac9b5a687570457b": {
      "model_module": "@jupyter-widgets/base",
      "model_module_version": "2.0.0",
      "model_name": "LayoutModel",
      "state": {}
     },
     "5ecac74ea44540daa4a109457a02e7b9": {
      "model_module": "@jupyter-widgets/base",
      "model_module_version": "2.0.0",
      "model_name": "LayoutModel",
      "state": {}
     },
     "5eec9cd426b84f45989409a4c46e2101": {
      "model_module": "@jupyter-widgets/controls",
      "model_module_version": "2.0.0",
      "model_name": "ProgressStyleModel",
      "state": {
       "description_width": ""
      }
     },
     "5f8f7cccdb9e468cb88d8abe9bb2db23": {
      "model_module": "@jupyter-widgets/base",
      "model_module_version": "2.0.0",
      "model_name": "LayoutModel",
      "state": {}
     },
     "5fcc6cc15a4f483b8a8f4f009c00df0c": {
      "model_module": "@jupyter-widgets/controls",
      "model_module_version": "2.0.0",
      "model_name": "HTMLStyleModel",
      "state": {
       "description_width": "",
       "font_size": null,
       "text_color": null
      }
     },
     "6047bb7311714004b71a577e6e8f161d": {
      "model_module": "@jupyter-widgets/controls",
      "model_module_version": "2.0.0",
      "model_name": "HTMLStyleModel",
      "state": {
       "description_width": "",
       "font_size": null,
       "text_color": null
      }
     },
     "60731265d681446ca91da93c4b77fbde": {
      "model_module": "@jupyter-widgets/controls",
      "model_module_version": "2.0.0",
      "model_name": "HTMLStyleModel",
      "state": {
       "description_width": "",
       "font_size": null,
       "text_color": null
      }
     },
     "61056990aed0437c8cc18f2d665f28e0": {
      "model_module": "@jupyter-widgets/base",
      "model_module_version": "2.0.0",
      "model_name": "LayoutModel",
      "state": {}
     },
     "614acd20ce534edc9ac71ad6b547b4b2": {
      "model_module": "@jupyter-widgets/controls",
      "model_module_version": "2.0.0",
      "model_name": "ProgressStyleModel",
      "state": {
       "description_width": ""
      }
     },
     "615ee8f1aee848bb9b913b28c6339d9d": {
      "model_module": "@jupyter-widgets/base",
      "model_module_version": "2.0.0",
      "model_name": "LayoutModel",
      "state": {}
     },
     "6211aa7be3f1477b9de7b1d180709118": {
      "model_module": "@jupyter-widgets/controls",
      "model_module_version": "2.0.0",
      "model_name": "HTMLModel",
      "state": {
       "layout": "IPY_MODEL_f5d0151233284c1fa9a7b558aba0af8c",
       "style": "IPY_MODEL_c6f38d348f2f492e8961ed6f489a5dcb",
       "value": " 0/192 [00:01&lt;?, ?it/s]"
      }
     },
     "62f5aac6229b490a86fd477a076a8796": {
      "model_module": "@jupyter-widgets/base",
      "model_module_version": "2.0.0",
      "model_name": "LayoutModel",
      "state": {}
     },
     "63b4567863534d05bbbc091ff0d7ebc4": {
      "model_module": "@jupyter-widgets/controls",
      "model_module_version": "2.0.0",
      "model_name": "HTMLModel",
      "state": {
       "layout": "IPY_MODEL_6f1bb76ef8754138a3c38ddb024d3fa7",
       "style": "IPY_MODEL_1493175592f84dc98466cafc066fa5d0",
       "value": " 15/15 [00:00&lt;00:00, 76.67it/s]"
      }
     },
     "650fd8b9bc4c42feab55b52236d1f1e0": {
      "model_module": "@jupyter-widgets/controls",
      "model_module_version": "2.0.0",
      "model_name": "HTMLModel",
      "state": {
       "layout": "IPY_MODEL_31a62a62d4a9463db84d1390e28a28c0",
       "style": "IPY_MODEL_e0e08675c61d493f8f6d7ed4fcea1d87",
       "value": "activations: 100%"
      }
     },
     "6605b60ded964c5ab8fd7419026e320f": {
      "model_module": "@jupyter-widgets/base",
      "model_module_version": "2.0.0",
      "model_name": "LayoutModel",
      "state": {}
     },
     "69ee3bf29b914b90986bc5b7552254e9": {
      "model_module": "@jupyter-widgets/base",
      "model_module_version": "2.0.0",
      "model_name": "LayoutModel",
      "state": {}
     },
     "6a52e929323a49b0863f3a92a8be0bd5": {
      "model_module": "@jupyter-widgets/controls",
      "model_module_version": "2.0.0",
      "model_name": "HTMLModel",
      "state": {
       "layout": "IPY_MODEL_5a44de767f3b449b8bb2c7e17784040c",
       "style": "IPY_MODEL_983be54f4dd14abbb4bd3fd548b0963f",
       "value": " 1/1 [00:00&lt;00:00,  2.05it/s]"
      }
     },
     "6bf850b159f943fb861f956d6517bd7a": {
      "model_module": "@jupyter-widgets/base",
      "model_module_version": "2.0.0",
      "model_name": "LayoutModel",
      "state": {}
     },
     "6c1e14e85a464a1795343549c162f5fa": {
      "model_module": "@jupyter-widgets/controls",
      "model_module_version": "2.0.0",
      "model_name": "HTMLStyleModel",
      "state": {
       "description_width": "",
       "font_size": null,
       "text_color": null
      }
     },
     "6cc5689c73ad4cee85f6fed74cc07439": {
      "model_module": "@jupyter-widgets/controls",
      "model_module_version": "2.0.0",
      "model_name": "HTMLModel",
      "state": {
       "layout": "IPY_MODEL_70d9572fedda4a84b745d0a9d5529cc5",
       "style": "IPY_MODEL_e72b500c87d94897b6c4bdced83a1d60",
       "value": " 7/7 [00:00&lt;00:00, 17.37it/s]"
      }
     },
     "6cd13bcd17574b12bc39a33e1212eff5": {
      "model_module": "@jupyter-widgets/controls",
      "model_module_version": "2.0.0",
      "model_name": "HTMLModel",
      "state": {
       "layout": "IPY_MODEL_2aecd9605f3a41599d8570271a55239f",
       "style": "IPY_MODEL_3c88d39b1c3d41fbab0a48a6bcdea976",
       "value": " 192/192 [00:02&lt;00:00, 63.61it/s]"
      }
     },
     "6d177ae6dfc548ce99ff881bd6c7cd44": {
      "model_module": "@jupyter-widgets/controls",
      "model_module_version": "2.0.0",
      "model_name": "HTMLStyleModel",
      "state": {
       "description_width": "",
       "font_size": null,
       "text_color": null
      }
     },
     "6d41b7ce1c8046479f5491efe502a7c2": {
      "model_module": "@jupyter-widgets/controls",
      "model_module_version": "2.0.0",
      "model_name": "HTMLModel",
      "state": {
       "layout": "IPY_MODEL_e81b74bc1bb64f608bd2dec21dc2b327",
       "style": "IPY_MODEL_74c0a9907a1a4a10b5eb982970e71c79",
       "value": "activations:   0%"
      }
     },
     "6f0cf6a46e0e466da89238efee5244f3": {
      "model_module": "@jupyter-widgets/controls",
      "model_module_version": "2.0.0",
      "model_name": "ProgressStyleModel",
      "state": {
       "description_width": ""
      }
     },
     "6f1bb76ef8754138a3c38ddb024d3fa7": {
      "model_module": "@jupyter-widgets/base",
      "model_module_version": "2.0.0",
      "model_name": "LayoutModel",
      "state": {}
     },
     "7094a3c6d6f04e7497e7783fab2d9fe9": {
      "model_module": "@jupyter-widgets/base",
      "model_module_version": "2.0.0",
      "model_name": "LayoutModel",
      "state": {}
     },
     "70d9572fedda4a84b745d0a9d5529cc5": {
      "model_module": "@jupyter-widgets/base",
      "model_module_version": "2.0.0",
      "model_name": "LayoutModel",
      "state": {}
     },
     "730d388162514bdda594e5601c4a0e10": {
      "model_module": "@jupyter-widgets/controls",
      "model_module_version": "2.0.0",
      "model_name": "HBoxModel",
      "state": {
       "children": [
        "IPY_MODEL_44b101e8f5a44ebeaa2e5f7fc62ece57",
        "IPY_MODEL_8e9ae41748b346258dbead57ed4094d3",
        "IPY_MODEL_6211aa7be3f1477b9de7b1d180709118"
       ],
       "layout": "IPY_MODEL_cdfbdf84b3224fd5a9fc1278220bf414"
      }
     },
     "7339b3f49b8f43cbb26bb9fce3701c90": {
      "model_module": "@jupyter-widgets/controls",
      "model_module_version": "2.0.0",
      "model_name": "HTMLModel",
      "state": {
       "layout": "IPY_MODEL_4f3907b8e04a44bab9e0f1043c7fa529",
       "style": "IPY_MODEL_9722dfcbab3e4e2eaf6a3fe9eeecdd95",
       "value": " 0/192 [00:01&lt;?, ?it/s]"
      }
     },
     "73860beb89b54e3e8923b37fd76166c8": {
      "model_module": "@jupyter-widgets/base",
      "model_module_version": "2.0.0",
      "model_name": "LayoutModel",
      "state": {}
     },
     "73fcf3c1e0f140d682401d1295b8654f": {
      "model_module": "@jupyter-widgets/base",
      "model_module_version": "2.0.0",
      "model_name": "LayoutModel",
      "state": {}
     },
     "74c0a9907a1a4a10b5eb982970e71c79": {
      "model_module": "@jupyter-widgets/controls",
      "model_module_version": "2.0.0",
      "model_name": "HTMLStyleModel",
      "state": {
       "description_width": "",
       "font_size": null,
       "text_color": null
      }
     },
     "75e8b58679654851898b05532fe31220": {
      "model_module": "@jupyter-widgets/controls",
      "model_module_version": "2.0.0",
      "model_name": "ProgressStyleModel",
      "state": {
       "description_width": ""
      }
     },
     "7aac67cfe0f04c668f079d7b1e11fdfb": {
      "model_module": "@jupyter-widgets/controls",
      "model_module_version": "2.0.0",
      "model_name": "HBoxModel",
      "state": {
       "children": [
        "IPY_MODEL_3b2ea2676a32482b9abb20c0f4d1a5cc",
        "IPY_MODEL_572e477620f24ece9098b418aa13c0de",
        "IPY_MODEL_6cd13bcd17574b12bc39a33e1212eff5"
       ],
       "layout": "IPY_MODEL_5d0796bd07ac4cabac9b5a687570457b"
      }
     },
     "7b93f1f471b64990aefc3939c02b4bb6": {
      "model_module": "@jupyter-widgets/controls",
      "model_module_version": "2.0.0",
      "model_name": "FloatProgressModel",
      "state": {
       "bar_style": "success",
       "layout": "IPY_MODEL_fcc0e0a777904bbcb82ae6cdd59bbde6",
       "max": 192,
       "style": "IPY_MODEL_1e3ca2c7ada84733995f620792905595",
       "value": 3
      }
     },
     "7bcc2c518e60445484ec8d1ca7a73006": {
      "model_module": "@jupyter-widgets/base",
      "model_module_version": "2.0.0",
      "model_name": "LayoutModel",
      "state": {}
     },
     "7c0332e76e374bc3a07bdd8543d8a15f": {
      "model_module": "@jupyter-widgets/controls",
      "model_module_version": "2.0.0",
      "model_name": "HTMLModel",
      "state": {
       "layout": "IPY_MODEL_a98ddd066a4549a4895d46c83e46371d",
       "style": "IPY_MODEL_c2b1de6fab3e44908c73b794d1795fb5",
       "value": "layer packaging: 100%"
      }
     },
     "7e226050646d471d964a3b421cf23ae8": {
      "model_module": "@jupyter-widgets/controls",
      "model_module_version": "2.0.0",
      "model_name": "FloatProgressModel",
      "state": {
       "bar_style": "danger",
       "layout": "IPY_MODEL_31bb407ccbdb4b1daaa3d35e4e0f3e7a",
       "max": 192,
       "style": "IPY_MODEL_0ece799b3b1e4b3c88c89610dd8541fb"
      }
     },
     "7fd7e2a896034d78ab838902b1f4401d": {
      "model_module": "@jupyter-widgets/base",
      "model_module_version": "2.0.0",
      "model_name": "LayoutModel",
      "state": {}
     },
     "80782af809ed4ac18394e8968ef5a2c4": {
      "model_module": "@jupyter-widgets/base",
      "model_module_version": "2.0.0",
      "model_name": "LayoutModel",
      "state": {}
     },
     "8098a4ba109348ae8b49fd9ef95acb1d": {
      "model_module": "@jupyter-widgets/base",
      "model_module_version": "2.0.0",
      "model_name": "LayoutModel",
      "state": {}
     },
     "830d927212a24178aeeb720984d204aa": {
      "model_module": "@jupyter-widgets/controls",
      "model_module_version": "2.0.0",
      "model_name": "FloatProgressModel",
      "state": {
       "bar_style": "success",
       "layout": "IPY_MODEL_d7b79dbf07d64f51b237e9e3aac8bdad",
       "max": 15,
       "style": "IPY_MODEL_850c329e04414d3d9efa123738c588ad",
       "value": 15
      }
     },
     "8435bb9db8aa46308ff6a132295516ce": {
      "model_module": "@jupyter-widgets/base",
      "model_module_version": "2.0.0",
      "model_name": "LayoutModel",
      "state": {}
     },
     "850c329e04414d3d9efa123738c588ad": {
      "model_module": "@jupyter-widgets/controls",
      "model_module_version": "2.0.0",
      "model_name": "ProgressStyleModel",
      "state": {
       "description_width": ""
      }
     },
     "8616e71f4362426997e95934e9d2ef14": {
      "model_module": "@jupyter-widgets/base",
      "model_module_version": "2.0.0",
      "model_name": "LayoutModel",
      "state": {}
     },
     "87bd4314b3c8454fa742d91367f07258": {
      "model_module": "@jupyter-widgets/controls",
      "model_module_version": "2.0.0",
      "model_name": "ProgressStyleModel",
      "state": {
       "description_width": ""
      }
     },
     "89389e7f8e6e4e40a1df0f0bd64a2f18": {
      "model_module": "@jupyter-widgets/controls",
      "model_module_version": "2.0.0",
      "model_name": "HTMLStyleModel",
      "state": {
       "description_width": "",
       "font_size": null,
       "text_color": null
      }
     },
     "899d6c03569e49b6839c9842f33c5eeb": {
      "model_module": "@jupyter-widgets/controls",
      "model_module_version": "2.0.0",
      "model_name": "HTMLModel",
      "state": {
       "layout": "IPY_MODEL_d336f3f3edeb466688dce4a57f01f717",
       "style": "IPY_MODEL_de924df1f2274d61b99d43a463ac32ec",
       "value": " 0/192 [00:01&lt;?, ?it/s]"
      }
     },
     "89a334b893d24a8cbb4dcbb5dcc5e2e8": {
      "model_module": "@jupyter-widgets/controls",
      "model_module_version": "2.0.0",
      "model_name": "FloatProgressModel",
      "state": {
       "bar_style": "danger",
       "layout": "IPY_MODEL_29c23f2605a94f5a96b91503d399ff23",
       "max": 192,
       "style": "IPY_MODEL_4efe1a320be54e32a54e9182929354da"
      }
     },
     "8b60ffb30fb84290bf7bc416a72e66db": {
      "model_module": "@jupyter-widgets/controls",
      "model_module_version": "2.0.0",
      "model_name": "FloatProgressModel",
      "state": {
       "bar_style": "success",
       "layout": "IPY_MODEL_1fe5ebe70d6843f9b5c7c9e25be3de57",
       "max": 1,
       "style": "IPY_MODEL_6f0cf6a46e0e466da89238efee5244f3",
       "value": 1
      }
     },
     "8bbe848ac2d9409d8d7e2c7f88e1412c": {
      "model_module": "@jupyter-widgets/base",
      "model_module_version": "2.0.0",
      "model_name": "LayoutModel",
      "state": {}
     },
     "8c2993376afc4d25aa3d0ab163881370": {
      "model_module": "@jupyter-widgets/controls",
      "model_module_version": "2.0.0",
      "model_name": "HTMLModel",
      "state": {
       "layout": "IPY_MODEL_e72d97615d994d96b5635ba56bce5c76",
       "style": "IPY_MODEL_6c1e14e85a464a1795343549c162f5fa",
       "value": " 1024/1024 [00:33&lt;00:00, 26.98it/s]"
      }
     },
     "8e9ae41748b346258dbead57ed4094d3": {
      "model_module": "@jupyter-widgets/controls",
      "model_module_version": "2.0.0",
      "model_name": "FloatProgressModel",
      "state": {
       "bar_style": "danger",
       "layout": "IPY_MODEL_8098a4ba109348ae8b49fd9ef95acb1d",
       "max": 192,
       "style": "IPY_MODEL_4bef015da78d4cfab943ecf83d3373d3"
      }
     },
     "8eaaad72c0724644889be81fafd68f9e": {
      "model_module": "@jupyter-widgets/controls",
      "model_module_version": "2.0.0",
      "model_name": "HTMLModel",
      "state": {
       "layout": "IPY_MODEL_7bcc2c518e60445484ec8d1ca7a73006",
       "style": "IPY_MODEL_c38b5d3d0edc40cda8c0fe14716b4790",
       "value": "activations:   0%"
      }
     },
     "8f38040bfcd940cd9bcf13a44a3280af": {
      "model_module": "@jupyter-widgets/controls",
      "model_module_version": "2.0.0",
      "model_name": "HTMLModel",
      "state": {
       "layout": "IPY_MODEL_0f74f7d34fdf4c019ec34cee189e1502",
       "style": "IPY_MODEL_b8a25b4b3c1b406a80f8c9762070696e",
       "value": "activations:   0%"
      }
     },
     "8fc59f3241be4a50b5dc011772e388b9": {
      "model_module": "@jupyter-widgets/controls",
      "model_module_version": "2.0.0",
      "model_name": "HBoxModel",
      "state": {
       "children": [
        "IPY_MODEL_43e6da6eb25b46789af86443ce7103b8",
        "IPY_MODEL_7e226050646d471d964a3b421cf23ae8",
        "IPY_MODEL_4082c25938dd445a8995fef6ea4c8440"
       ],
       "layout": "IPY_MODEL_a4caa6f607584f7492ef9ac3799fb0f0"
      }
     },
     "9032683f23bf4a81afc5524ecad2f589": {
      "model_module": "@jupyter-widgets/base",
      "model_module_version": "2.0.0",
      "model_name": "LayoutModel",
      "state": {}
     },
     "903445cc176944b4a840e3cc728cf9cd": {
      "model_module": "@jupyter-widgets/controls",
      "model_module_version": "2.0.0",
      "model_name": "ProgressStyleModel",
      "state": {
       "description_width": ""
      }
     },
     "91c391199fca4025890404d842a34b2b": {
      "model_module": "@jupyter-widgets/controls",
      "model_module_version": "2.0.0",
      "model_name": "HTMLStyleModel",
      "state": {
       "description_width": "",
       "font_size": null,
       "text_color": null
      }
     },
     "93805e8a589f46a19c86341ac9bc0337": {
      "model_module": "@jupyter-widgets/base",
      "model_module_version": "2.0.0",
      "model_name": "LayoutModel",
      "state": {}
     },
     "9384cbebaf3749e992b434fb07f7380a": {
      "model_module": "@jupyter-widgets/controls",
      "model_module_version": "2.0.0",
      "model_name": "HTMLStyleModel",
      "state": {
       "description_width": "",
       "font_size": null,
       "text_color": null
      }
     },
     "94e9587938064539b878f6786f66278a": {
      "model_module": "@jupyter-widgets/controls",
      "model_module_version": "2.0.0",
      "model_name": "HTMLModel",
      "state": {
       "layout": "IPY_MODEL_22d4c609a6c44590a8d65b96ca03e8dd",
       "style": "IPY_MODEL_1fedc28ee81b4b309825a60c05ba877d",
       "value": "activations:   0%"
      }
     },
     "94eb7bf07082441f9a588b5149b0edd4": {
      "model_module": "@jupyter-widgets/base",
      "model_module_version": "2.0.0",
      "model_name": "LayoutModel",
      "state": {}
     },
     "958c31fec13f4674b843ee7fa2295e00": {
      "model_module": "@jupyter-widgets/controls",
      "model_module_version": "2.0.0",
      "model_name": "HBoxModel",
      "state": {
       "children": [
        "IPY_MODEL_ca49d06abaa94d439f1c41eea7a8d20d",
        "IPY_MODEL_121c19d8107147138651e7352d012757",
        "IPY_MODEL_f9fe7a3696cf42a1ba4a0eac45060881"
       ],
       "layout": "IPY_MODEL_0f5132140722493c80005e805494eec0"
      }
     },
     "9722dfcbab3e4e2eaf6a3fe9eeecdd95": {
      "model_module": "@jupyter-widgets/controls",
      "model_module_version": "2.0.0",
      "model_name": "HTMLStyleModel",
      "state": {
       "description_width": "",
       "font_size": null,
       "text_color": null
      }
     },
     "983be54f4dd14abbb4bd3fd548b0963f": {
      "model_module": "@jupyter-widgets/controls",
      "model_module_version": "2.0.0",
      "model_name": "HTMLStyleModel",
      "state": {
       "description_width": "",
       "font_size": null,
       "text_color": null
      }
     },
     "989a90db750f473492b727ac32a41fe6": {
      "model_module": "@jupyter-widgets/controls",
      "model_module_version": "2.0.0",
      "model_name": "HBoxModel",
      "state": {
       "children": [
        "IPY_MODEL_6d41b7ce1c8046479f5491efe502a7c2",
        "IPY_MODEL_d489e1ddbc6b4da9b50a145d49107a57",
        "IPY_MODEL_899d6c03569e49b6839c9842f33c5eeb"
       ],
       "layout": "IPY_MODEL_93805e8a589f46a19c86341ac9bc0337"
      }
     },
     "a39b79a5ae084931bfcc58ae1a857c7f": {
      "model_module": "@jupyter-widgets/base",
      "model_module_version": "2.0.0",
      "model_name": "LayoutModel",
      "state": {}
     },
     "a3fb3fd4e85540fea121b83667d5d156": {
      "model_module": "@jupyter-widgets/controls",
      "model_module_version": "2.0.0",
      "model_name": "HTMLStyleModel",
      "state": {
       "description_width": "",
       "font_size": null,
       "text_color": null
      }
     },
     "a4caa6f607584f7492ef9ac3799fb0f0": {
      "model_module": "@jupyter-widgets/base",
      "model_module_version": "2.0.0",
      "model_name": "LayoutModel",
      "state": {}
     },
     "a50384eaf5a643b1b7f03baf8450a5f5": {
      "model_module": "@jupyter-widgets/base",
      "model_module_version": "2.0.0",
      "model_name": "LayoutModel",
      "state": {}
     },
     "a98ddd066a4549a4895d46c83e46371d": {
      "model_module": "@jupyter-widgets/base",
      "model_module_version": "2.0.0",
      "model_name": "LayoutModel",
      "state": {}
     },
     "aa0c12d2fb014600b033c024ea2574aa": {
      "model_module": "@jupyter-widgets/base",
      "model_module_version": "2.0.0",
      "model_name": "LayoutModel",
      "state": {}
     },
     "aa676f32cf664339b5ae6a6e18220026": {
      "model_module": "@jupyter-widgets/controls",
      "model_module_version": "2.0.0",
      "model_name": "HTMLModel",
      "state": {
       "layout": "IPY_MODEL_7fd7e2a896034d78ab838902b1f4401d",
       "style": "IPY_MODEL_d2d74da278364aa8b59c407e4e4e96f9",
       "value": "layer packaging: 100%"
      }
     },
     "aadb9650695b4d7e868a579103b7e693": {
      "model_module": "@jupyter-widgets/base",
      "model_module_version": "2.0.0",
      "model_name": "LayoutModel",
      "state": {}
     },
     "ac5798efd52545ad9846f86928d53556": {
      "model_module": "@jupyter-widgets/controls",
      "model_module_version": "2.0.0",
      "model_name": "FloatProgressModel",
      "state": {
       "bar_style": "success",
       "layout": "IPY_MODEL_3aa3ab105631430ca5b4fcca7b294696",
       "max": 192,
       "style": "IPY_MODEL_903445cc176944b4a840e3cc728cf9cd",
       "value": 3
      }
     },
     "ac580a3ea6a54e72bfe2f881b23ad057": {
      "model_module": "@jupyter-widgets/base",
      "model_module_version": "2.0.0",
      "model_name": "LayoutModel",
      "state": {}
     },
     "acefa737ddfa4070aa6679f7b7eb0e04": {
      "model_module": "@jupyter-widgets/controls",
      "model_module_version": "2.0.0",
      "model_name": "FloatProgressModel",
      "state": {
       "bar_style": "success",
       "layout": "IPY_MODEL_5047c51304ab49e9b260ccc71cba7fdf",
       "max": 7,
       "style": "IPY_MODEL_10dbe9b1a5854ad38e09b6fadf7dc139",
       "value": 7
      }
     },
     "acfd5326ac1b4682a381b918a0d4b27a": {
      "model_module": "@jupyter-widgets/controls",
      "model_module_version": "2.0.0",
      "model_name": "HTMLStyleModel",
      "state": {
       "description_width": "",
       "font_size": null,
       "text_color": null
      }
     },
     "af409b86c695481ab3f375d521c86aeb": {
      "model_module": "@jupyter-widgets/base",
      "model_module_version": "2.0.0",
      "model_name": "LayoutModel",
      "state": {}
     },
     "afd97125bcc444598963aaf7d3bc6f7e": {
      "model_module": "@jupyter-widgets/controls",
      "model_module_version": "2.0.0",
      "model_name": "HTMLStyleModel",
      "state": {
       "description_width": "",
       "font_size": null,
       "text_color": null
      }
     },
     "b05cffa043d54700a9eab5b80375508e": {
      "model_module": "@jupyter-widgets/controls",
      "model_module_version": "2.0.0",
      "model_name": "ProgressStyleModel",
      "state": {
       "description_width": ""
      }
     },
     "b1b6445dc4aa49c2b449d722f7652afb": {
      "model_module": "@jupyter-widgets/controls",
      "model_module_version": "2.0.0",
      "model_name": "HTMLModel",
      "state": {
       "layout": "IPY_MODEL_ca50940099fd45cba32d76ac2e92241f",
       "style": "IPY_MODEL_60731265d681446ca91da93c4b77fbde",
       "value": " 1024/1024 [00:15&lt;00:00, 83.20it/s]"
      }
     },
     "b471de68c9924b7c90c18341843a41f6": {
      "model_module": "@jupyter-widgets/controls",
      "model_module_version": "2.0.0",
      "model_name": "HTMLStyleModel",
      "state": {
       "description_width": "",
       "font_size": null,
       "text_color": null
      }
     },
     "b61d02a1af174325a597ea845aa153c0": {
      "model_module": "@jupyter-widgets/base",
      "model_module_version": "2.0.0",
      "model_name": "LayoutModel",
      "state": {}
     },
     "b64bcdcdb467449cbf3adc2889483090": {
      "model_module": "@jupyter-widgets/controls",
      "model_module_version": "2.0.0",
      "model_name": "FloatProgressModel",
      "state": {
       "bar_style": "success",
       "layout": "IPY_MODEL_8435bb9db8aa46308ff6a132295516ce",
       "max": 192,
       "style": "IPY_MODEL_58ae4359e1f7421da00841a2fce172ca",
       "value": 3
      }
     },
     "b792af970b4548a2b7245a3720e2b8e1": {
      "model_module": "@jupyter-widgets/base",
      "model_module_version": "2.0.0",
      "model_name": "LayoutModel",
      "state": {}
     },
     "b8a25b4b3c1b406a80f8c9762070696e": {
      "model_module": "@jupyter-widgets/controls",
      "model_module_version": "2.0.0",
      "model_name": "HTMLStyleModel",
      "state": {
       "description_width": "",
       "font_size": null,
       "text_color": null
      }
     },
     "b91828682a7c48d08bcd2cc0ad2c92aa": {
      "model_module": "@jupyter-widgets/controls",
      "model_module_version": "2.0.0",
      "model_name": "HTMLModel",
      "state": {
       "layout": "IPY_MODEL_61056990aed0437c8cc18f2d665f28e0",
       "style": "IPY_MODEL_f55af236d2b94aca8b34724cb295af45",
       "value": "layer packaging: 100%"
      }
     },
     "b962f20b0b4444ad8ee6816f957b1790": {
      "model_module": "@jupyter-widgets/controls",
      "model_module_version": "2.0.0",
      "model_name": "HTMLModel",
      "state": {
       "layout": "IPY_MODEL_eddf2a848dfb491893e684f8cb31d6aa",
       "style": "IPY_MODEL_acfd5326ac1b4682a381b918a0d4b27a",
       "value": "activations: 100%"
      }
     },
     "baa93d31b6334470a3223098bd11eb94": {
      "model_module": "@jupyter-widgets/base",
      "model_module_version": "2.0.0",
      "model_name": "LayoutModel",
      "state": {}
     },
     "bcb9cfeb71ec40b1a5f7846cfce5409a": {
      "model_module": "@jupyter-widgets/controls",
      "model_module_version": "2.0.0",
      "model_name": "HTMLStyleModel",
      "state": {
       "description_width": "",
       "font_size": null,
       "text_color": null
      }
     },
     "bda53147876945b780486ec2bd7454f2": {
      "model_module": "@jupyter-widgets/controls",
      "model_module_version": "2.0.0",
      "model_name": "HTMLStyleModel",
      "state": {
       "description_width": "",
       "font_size": null,
       "text_color": null
      }
     },
     "bf108d911d3b49449386d496da8b59b2": {
      "model_module": "@jupyter-widgets/controls",
      "model_module_version": "2.0.0",
      "model_name": "FloatProgressModel",
      "state": {
       "bar_style": "danger",
       "layout": "IPY_MODEL_b792af970b4548a2b7245a3720e2b8e1",
       "max": 192,
       "style": "IPY_MODEL_0af7a0b2ce7643e8ba9c7e84f1b5a332"
      }
     },
     "bfcae4193c054029bc822e62fdca6c3b": {
      "model_module": "@jupyter-widgets/controls",
      "model_module_version": "2.0.0",
      "model_name": "HBoxModel",
      "state": {
       "children": [
        "IPY_MODEL_8eaaad72c0724644889be81fafd68f9e",
        "IPY_MODEL_c38127c6fb134cd988467be4a2e22d5d",
        "IPY_MODEL_f499dfad81af4bcfb4e3d3f72b3362d3"
       ],
       "layout": "IPY_MODEL_197e1180a0ca46a3a167ce88aa716c1f"
      }
     },
     "c06e0b54d201424d8c0d02ff95c74756": {
      "model_module": "@jupyter-widgets/controls",
      "model_module_version": "2.0.0",
      "model_name": "FloatProgressModel",
      "state": {
       "bar_style": "success",
       "layout": "IPY_MODEL_0080fddaf9e148f3834b16cba269887d",
       "max": 1,
       "style": "IPY_MODEL_614acd20ce534edc9ac71ad6b547b4b2",
       "value": 1
      }
     },
     "c096c47a45644b358b9b89b9fe58af83": {
      "model_module": "@jupyter-widgets/controls",
      "model_module_version": "2.0.0",
      "model_name": "HBoxModel",
      "state": {
       "children": [
        "IPY_MODEL_b91828682a7c48d08bcd2cc0ad2c92aa",
        "IPY_MODEL_06f27de5ccb34fd89171e58e9943358e",
        "IPY_MODEL_49b2b3d8adb44bfa9c6f6de0975859e4"
       ],
       "layout": "IPY_MODEL_47ab3bacb1a94d76828c560471258cf8"
      }
     },
     "c160e7a6d822411188aa7096539875aa": {
      "model_module": "@jupyter-widgets/controls",
      "model_module_version": "2.0.0",
      "model_name": "HTMLModel",
      "state": {
       "layout": "IPY_MODEL_80782af809ed4ac18394e8968ef5a2c4",
       "style": "IPY_MODEL_52a4dc39fd40439980043e829015a73d",
       "value": "activations: 100%"
      }
     },
     "c2b1de6fab3e44908c73b794d1795fb5": {
      "model_module": "@jupyter-widgets/controls",
      "model_module_version": "2.0.0",
      "model_name": "HTMLStyleModel",
      "state": {
       "description_width": "",
       "font_size": null,
       "text_color": null
      }
     },
     "c3409106c6e74e4eb04598e041021a21": {
      "model_module": "@jupyter-widgets/base",
      "model_module_version": "2.0.0",
      "model_name": "LayoutModel",
      "state": {}
     },
     "c38127c6fb134cd988467be4a2e22d5d": {
      "model_module": "@jupyter-widgets/controls",
      "model_module_version": "2.0.0",
      "model_name": "FloatProgressModel",
      "state": {
       "bar_style": "danger",
       "layout": "IPY_MODEL_aa0c12d2fb014600b033c024ea2574aa",
       "max": 192,
       "style": "IPY_MODEL_87bd4314b3c8454fa742d91367f07258"
      }
     },
     "c38b5d3d0edc40cda8c0fe14716b4790": {
      "model_module": "@jupyter-widgets/controls",
      "model_module_version": "2.0.0",
      "model_name": "HTMLStyleModel",
      "state": {
       "description_width": "",
       "font_size": null,
       "text_color": null
      }
     },
     "c50a5567ba8848b9af7d6186535ea58b": {
      "model_module": "@jupyter-widgets/controls",
      "model_module_version": "2.0.0",
      "model_name": "HTMLModel",
      "state": {
       "layout": "IPY_MODEL_8bbe848ac2d9409d8d7e2c7f88e1412c",
       "style": "IPY_MODEL_5fcc6cc15a4f483b8a8f4f009c00df0c",
       "value": "layer packaging: 100%"
      }
     },
     "c54751bf682c4444b69093a27b835f85": {
      "model_module": "@jupyter-widgets/controls",
      "model_module_version": "2.0.0",
      "model_name": "HBoxModel",
      "state": {
       "children": [
        "IPY_MODEL_c160e7a6d822411188aa7096539875aa",
        "IPY_MODEL_7b93f1f471b64990aefc3939c02b4bb6",
        "IPY_MODEL_403c2dac9e224633b3e03f2e27238a4c"
       ],
       "layout": "IPY_MODEL_ac580a3ea6a54e72bfe2f881b23ad057"
      }
     },
     "c6f38d348f2f492e8961ed6f489a5dcb": {
      "model_module": "@jupyter-widgets/controls",
      "model_module_version": "2.0.0",
      "model_name": "HTMLStyleModel",
      "state": {
       "description_width": "",
       "font_size": null,
       "text_color": null
      }
     },
     "c9be18d35c6e432ea728c2f374596add": {
      "model_module": "@jupyter-widgets/controls",
      "model_module_version": "2.0.0",
      "model_name": "ProgressStyleModel",
      "state": {
       "description_width": ""
      }
     },
     "ca49d06abaa94d439f1c41eea7a8d20d": {
      "model_module": "@jupyter-widgets/controls",
      "model_module_version": "2.0.0",
      "model_name": "HTMLModel",
      "state": {
       "layout": "IPY_MODEL_d33a3f72793b4f9dbb9fef1fe1d728df",
       "style": "IPY_MODEL_57b03c3c776542568fbb31a95385ffe1",
       "value": "activations:   0%"
      }
     },
     "ca50940099fd45cba32d76ac2e92241f": {
      "model_module": "@jupyter-widgets/base",
      "model_module_version": "2.0.0",
      "model_name": "LayoutModel",
      "state": {}
     },
     "ccc28b5638e34746b5892c0c1447520a": {
      "model_module": "@jupyter-widgets/controls",
      "model_module_version": "2.0.0",
      "model_name": "HTMLStyleModel",
      "state": {
       "description_width": "",
       "font_size": null,
       "text_color": null
      }
     },
     "cd66f7e7dd2840f4b01876b7d774880f": {
      "model_module": "@jupyter-widgets/controls",
      "model_module_version": "2.0.0",
      "model_name": "HTMLStyleModel",
      "state": {
       "description_width": "",
       "font_size": null,
       "text_color": null
      }
     },
     "cdfbdf84b3224fd5a9fc1278220bf414": {
      "model_module": "@jupyter-widgets/base",
      "model_module_version": "2.0.0",
      "model_name": "LayoutModel",
      "state": {}
     },
     "ce17498645a94943a02355a5ff6f195a": {
      "model_module": "@jupyter-widgets/controls",
      "model_module_version": "2.0.0",
      "model_name": "HTMLModel",
      "state": {
       "layout": "IPY_MODEL_3832185fc8d94655bb584483a1339d4a",
       "style": "IPY_MODEL_5a19ea68442542ae9a1cbcc80b0ab70e",
       "value": "layer packaging: 100%"
      }
     },
     "cfe75c5ec06b4e569583ffac7bea07ef": {
      "model_module": "@jupyter-widgets/base",
      "model_module_version": "2.0.0",
      "model_name": "LayoutModel",
      "state": {}
     },
     "d0e93d27c7d24bc1a1e64d36d3ca2d9f": {
      "model_module": "@jupyter-widgets/base",
      "model_module_version": "2.0.0",
      "model_name": "LayoutModel",
      "state": {}
     },
     "d2d74da278364aa8b59c407e4e4e96f9": {
      "model_module": "@jupyter-widgets/controls",
      "model_module_version": "2.0.0",
      "model_name": "HTMLStyleModel",
      "state": {
       "description_width": "",
       "font_size": null,
       "text_color": null
      }
     },
     "d336f3f3edeb466688dce4a57f01f717": {
      "model_module": "@jupyter-widgets/base",
      "model_module_version": "2.0.0",
      "model_name": "LayoutModel",
      "state": {}
     },
     "d33a3f72793b4f9dbb9fef1fe1d728df": {
      "model_module": "@jupyter-widgets/base",
      "model_module_version": "2.0.0",
      "model_name": "LayoutModel",
      "state": {}
     },
     "d489e1ddbc6b4da9b50a145d49107a57": {
      "model_module": "@jupyter-widgets/controls",
      "model_module_version": "2.0.0",
      "model_name": "FloatProgressModel",
      "state": {
       "bar_style": "danger",
       "layout": "IPY_MODEL_aadb9650695b4d7e868a579103b7e693",
       "max": 192,
       "style": "IPY_MODEL_543fd4fef84b44798abbbfef684b62d3"
      }
     },
     "d56b79cd16d949d68e070cab890b9b92": {
      "model_module": "@jupyter-widgets/controls",
      "model_module_version": "2.0.0",
      "model_name": "HTMLModel",
      "state": {
       "layout": "IPY_MODEL_b61d02a1af174325a597ea845aa153c0",
       "style": "IPY_MODEL_9384cbebaf3749e992b434fb07f7380a",
       "value": "activations: 100%"
      }
     },
     "d6df3419e65a48debf3e65ef2d2657f3": {
      "model_module": "@jupyter-widgets/controls",
      "model_module_version": "2.0.0",
      "model_name": "HTMLModel",
      "state": {
       "layout": "IPY_MODEL_f3ada1bafed8448ebcd65e7f09ffcf79",
       "style": "IPY_MODEL_ccc28b5638e34746b5892c0c1447520a",
       "value": " 0/192 [00:01&lt;?, ?it/s]"
      }
     },
     "d7b79dbf07d64f51b237e9e3aac8bdad": {
      "model_module": "@jupyter-widgets/base",
      "model_module_version": "2.0.0",
      "model_name": "LayoutModel",
      "state": {}
     },
     "d9e2712969864ca68d7b3612e370104c": {
      "model_module": "@jupyter-widgets/controls",
      "model_module_version": "2.0.0",
      "model_name": "ProgressStyleModel",
      "state": {
       "description_width": ""
      }
     },
     "da653d8920ec4ca9ae3ea493a787c0ca": {
      "model_module": "@jupyter-widgets/controls",
      "model_module_version": "2.0.0",
      "model_name": "HTMLModel",
      "state": {
       "layout": "IPY_MODEL_2cbefd31f6684ef3b79077ac0d1f065c",
       "style": "IPY_MODEL_bda53147876945b780486ec2bd7454f2",
       "value": " 15/15 [00:06&lt;00:00,  2.25it/s]"
      }
     },
     "de924df1f2274d61b99d43a463ac32ec": {
      "model_module": "@jupyter-widgets/controls",
      "model_module_version": "2.0.0",
      "model_name": "HTMLStyleModel",
      "state": {
       "description_width": "",
       "font_size": null,
       "text_color": null
      }
     },
     "dece77d764b5449081736619c74ad49b": {
      "model_module": "@jupyter-widgets/controls",
      "model_module_version": "2.0.0",
      "model_name": "HBoxModel",
      "state": {
       "children": [
        "IPY_MODEL_94e9587938064539b878f6786f66278a",
        "IPY_MODEL_89a334b893d24a8cbb4dcbb5dcc5e2e8",
        "IPY_MODEL_d6df3419e65a48debf3e65ef2d2657f3"
       ],
       "layout": "IPY_MODEL_6bf850b159f943fb861f956d6517bd7a"
      }
     },
     "e0e08675c61d493f8f6d7ed4fcea1d87": {
      "model_module": "@jupyter-widgets/controls",
      "model_module_version": "2.0.0",
      "model_name": "HTMLStyleModel",
      "state": {
       "description_width": "",
       "font_size": null,
       "text_color": null
      }
     },
     "e72b500c87d94897b6c4bdced83a1d60": {
      "model_module": "@jupyter-widgets/controls",
      "model_module_version": "2.0.0",
      "model_name": "HTMLStyleModel",
      "state": {
       "description_width": "",
       "font_size": null,
       "text_color": null
      }
     },
     "e72d97615d994d96b5635ba56bce5c76": {
      "model_module": "@jupyter-widgets/base",
      "model_module_version": "2.0.0",
      "model_name": "LayoutModel",
      "state": {}
     },
     "e7d7d6e002d8463084cb50ca68eaa5fe": {
      "model_module": "@jupyter-widgets/controls",
      "model_module_version": "2.0.0",
      "model_name": "HBoxModel",
      "state": {
       "children": [
        "IPY_MODEL_153c1151cac44ec6b942982c42f667bd",
        "IPY_MODEL_b64bcdcdb467449cbf3adc2889483090",
        "IPY_MODEL_237a5c6980d443fa91ac7e4127c427c3"
       ],
       "layout": "IPY_MODEL_489afdd510694e25835f4c28e12f182c"
      }
     },
     "e81b74bc1bb64f608bd2dec21dc2b327": {
      "model_module": "@jupyter-widgets/base",
      "model_module_version": "2.0.0",
      "model_name": "LayoutModel",
      "state": {}
     },
     "eb8e3cc0ca6b4ef5923ed87a6f6a85b6": {
      "model_module": "@jupyter-widgets/controls",
      "model_module_version": "2.0.0",
      "model_name": "HBoxModel",
      "state": {
       "children": [
        "IPY_MODEL_f7c14642cbd54de8bc9676587bc2091a",
        "IPY_MODEL_bf108d911d3b49449386d496da8b59b2",
        "IPY_MODEL_409263f6e47647e2b9303b11ac2da2fa"
       ],
       "layout": "IPY_MODEL_7094a3c6d6f04e7497e7783fab2d9fe9"
      }
     },
     "ebabe86a2b6c40fb8e30bba72ee2ea59": {
      "model_module": "@jupyter-widgets/controls",
      "model_module_version": "2.0.0",
      "model_name": "HBoxModel",
      "state": {
       "children": [
        "IPY_MODEL_c50a5567ba8848b9af7d6186535ea58b",
        "IPY_MODEL_8b60ffb30fb84290bf7bc416a72e66db",
        "IPY_MODEL_6a52e929323a49b0863f3a92a8be0bd5"
       ],
       "layout": "IPY_MODEL_8616e71f4362426997e95934e9d2ef14"
      }
     },
     "ec0f35e113394d3d9b8d953725505428": {
      "model_module": "@jupyter-widgets/controls",
      "model_module_version": "2.0.0",
      "model_name": "HTMLStyleModel",
      "state": {
       "description_width": "",
       "font_size": null,
       "text_color": null
      }
     },
     "ed61685993da4bed97f8260602fe7cf2": {
      "model_module": "@jupyter-widgets/base",
      "model_module_version": "2.0.0",
      "model_name": "LayoutModel",
      "state": {}
     },
     "eddf2a848dfb491893e684f8cb31d6aa": {
      "model_module": "@jupyter-widgets/base",
      "model_module_version": "2.0.0",
      "model_name": "LayoutModel",
      "state": {}
     },
     "f2170e11d251408d88b78144e916ff30": {
      "model_module": "@jupyter-widgets/controls",
      "model_module_version": "2.0.0",
      "model_name": "HTMLStyleModel",
      "state": {
       "description_width": "",
       "font_size": null,
       "text_color": null
      }
     },
     "f308fecfb099443792c0988a040cbee9": {
      "model_module": "@jupyter-widgets/controls",
      "model_module_version": "2.0.0",
      "model_name": "HTMLStyleModel",
      "state": {
       "description_width": "",
       "font_size": null,
       "text_color": null
      }
     },
     "f3ada1bafed8448ebcd65e7f09ffcf79": {
      "model_module": "@jupyter-widgets/base",
      "model_module_version": "2.0.0",
      "model_name": "LayoutModel",
      "state": {}
     },
     "f499dfad81af4bcfb4e3d3f72b3362d3": {
      "model_module": "@jupyter-widgets/controls",
      "model_module_version": "2.0.0",
      "model_name": "HTMLModel",
      "state": {
       "layout": "IPY_MODEL_cfe75c5ec06b4e569583ffac7bea07ef",
       "style": "IPY_MODEL_b471de68c9924b7c90c18341843a41f6",
       "value": " 0/192 [00:01&lt;?, ?it/s]"
      }
     },
     "f55af236d2b94aca8b34724cb295af45": {
      "model_module": "@jupyter-widgets/controls",
      "model_module_version": "2.0.0",
      "model_name": "HTMLStyleModel",
      "state": {
       "description_width": "",
       "font_size": null,
       "text_color": null
      }
     },
     "f5bdcb7771d74c0e8fb1ca220898843d": {
      "model_module": "@jupyter-widgets/controls",
      "model_module_version": "2.0.0",
      "model_name": "HBoxModel",
      "state": {
       "children": [
        "IPY_MODEL_8f38040bfcd940cd9bcf13a44a3280af",
        "IPY_MODEL_10ae82e5c1074863b62ed2a3440bbf4c",
        "IPY_MODEL_7339b3f49b8f43cbb26bb9fce3701c90"
       ],
       "layout": "IPY_MODEL_032fd92d981a40b48d5c9c1e7da41a7d"
      }
     },
     "f5d0151233284c1fa9a7b558aba0af8c": {
      "model_module": "@jupyter-widgets/base",
      "model_module_version": "2.0.0",
      "model_name": "LayoutModel",
      "state": {}
     },
     "f7c14642cbd54de8bc9676587bc2091a": {
      "model_module": "@jupyter-widgets/controls",
      "model_module_version": "2.0.0",
      "model_name": "HTMLModel",
      "state": {
       "layout": "IPY_MODEL_1134a81c4604493ba48b77b2ad594676",
       "style": "IPY_MODEL_ec0f35e113394d3d9b8d953725505428",
       "value": "activations:   0%"
      }
     },
     "f9fe7a3696cf42a1ba4a0eac45060881": {
      "model_module": "@jupyter-widgets/controls",
      "model_module_version": "2.0.0",
      "model_name": "HTMLModel",
      "state": {
       "layout": "IPY_MODEL_c3409106c6e74e4eb04598e041021a21",
       "style": "IPY_MODEL_fdf0dfef628a4718a7c7d49b1d80727e",
       "value": " 0/192 [00:01&lt;?, ?it/s]"
      }
     },
     "fa0e2674911042e0a592a616846644ca": {
      "model_module": "@jupyter-widgets/controls",
      "model_module_version": "2.0.0",
      "model_name": "HBoxModel",
      "state": {
       "children": [
        "IPY_MODEL_7c0332e76e374bc3a07bdd8543d8a15f",
        "IPY_MODEL_03013316e09d400ea4f956d68457d1d7",
        "IPY_MODEL_da653d8920ec4ca9ae3ea493a787c0ca"
       ],
       "layout": "IPY_MODEL_4445ca49ee3044ba8359917aff23cf1c"
      }
     },
     "fbdf865201bb439583e48dcca0eb6ea2": {
      "model_module": "@jupyter-widgets/controls",
      "model_module_version": "2.0.0",
      "model_name": "HBoxModel",
      "state": {
       "children": [
        "IPY_MODEL_aa676f32cf664339b5ae6a6e18220026",
        "IPY_MODEL_acefa737ddfa4070aa6679f7b7eb0e04",
        "IPY_MODEL_6cc5689c73ad4cee85f6fed74cc07439"
       ],
       "layout": "IPY_MODEL_73fcf3c1e0f140d682401d1295b8654f"
      }
     },
     "fcc0e0a777904bbcb82ae6cdd59bbde6": {
      "model_module": "@jupyter-widgets/base",
      "model_module_version": "2.0.0",
      "model_name": "LayoutModel",
      "state": {}
     },
     "fd88c31144d64e98a273ba81e6739325": {
      "model_module": "@jupyter-widgets/base",
      "model_module_version": "2.0.0",
      "model_name": "LayoutModel",
      "state": {}
     },
     "fdf0dfef628a4718a7c7d49b1d80727e": {
      "model_module": "@jupyter-widgets/controls",
      "model_module_version": "2.0.0",
      "model_name": "HTMLStyleModel",
      "state": {
       "description_width": "",
       "font_size": null,
       "text_color": null
      }
     }
    },
    "version_major": 2,
    "version_minor": 0
   }
  }
 },
 "nbformat": 4,
 "nbformat_minor": 4
}
